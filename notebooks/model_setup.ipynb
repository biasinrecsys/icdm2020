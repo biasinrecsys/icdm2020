{
 "cells": [
  {
   "cell_type": "markdown",
   "metadata": {
    "collapsed": true
   },
   "source": [
    "# Notebook #01: Recommender Systems in Practice\n",
    "\n",
    "# Designing and evaluating a recommendation algorithm\n",
    "\n",
    "In this notebook, we will focus on becoming familiar with the recommendation pipeline through a custom Python toolbox, in the simplest possible way. First, we will setup the working environment in GDrive. Then, we will follow the experimental pipeline syep by step, by:\n",
    "- loading the Movielens 1M dataset; \n",
    "- performing a train-test splitting;\n",
    "- creating a pointwise / pairwise / random / mostpop recommendation object;\n",
    "- training the model, when applicable;\n",
    "- computing the user-item matrix of predicted relevance scores;\n",
    "- calculating a set of evaluation metrics, such as Normalized Discounter Cumulative Gain (NDCG), Coverage, and Novelty. \n",
    "\n",
    "The trained models, together with the partial computation we will save (e.g., user-item relevance matrix or metrics), will be the starting point of the investigation and the treatment covered by the other Jupyter notebooks."
   ]
  },
  {
   "cell_type": "markdown",
   "metadata": {},
   "source": [
    "<div class=\"alert alert-warning\">\n",
    "    <h1>Warm-up: Setup the working environment for this notebook</h1> <br>\n",
    "</div>\n",
    "\n",
    "- Python 3.6\n",
    "- Package Requirements: pandas, numpy, scipy, matplotlib, scikit-learn, tensorflow. \n",
    "- GDrive storage requirements: ~1GB"
   ]
  },
  {
   "cell_type": "markdown",
   "metadata": {},
   "source": [
    "This step serves to mount GDrive storage within this Jupyter notebook. The command will request us to give access permissions to this notebook, so that we will be able to clone the project repository when we desire. Please follow the prompted instructions."
   ]
  },
  {
   "cell_type": "code",
   "execution_count": null,
   "metadata": {},
   "outputs": [],
   "source": [
    "from google.colab import drive\n",
    "drive.mount('/content/gdrive')"
   ]
  },
  {
   "cell_type": "markdown",
   "metadata": {},
   "source": [
    "We will clone the project repository in our My Drive folder. If you wish to change the target folder, please modify the command below."
   ]
  },
  {
   "cell_type": "code",
   "execution_count": null,
   "metadata": {},
   "outputs": [],
   "source": [
    "%cd /content/gdrive/My Drive/"
   ]
  },
  {
   "cell_type": "markdown",
   "metadata": {},
   "source": [
    "## Clone the Github repository into GDrive\n",
    "\n",
    "If you want to work with the codebase locally in your laptop, you should start to run the following commands."
   ]
  },
  {
   "cell_type": "code",
   "execution_count": null,
   "metadata": {},
   "outputs": [],
   "source": [
    "! git clone https://github.com/biasinrecsys/icdm2020.git"
   ]
  },
  {
   "cell_type": "markdown",
   "metadata": {},
   "source": [
    "We will move to the project folder in order to install the required packages. "
   ]
  },
  {
   "cell_type": "code",
   "execution_count": null,
   "metadata": {},
   "outputs": [],
   "source": [
    "%cd icdm2020"
   ]
  },
  {
   "cell_type": "code",
   "execution_count": null,
   "metadata": {},
   "outputs": [],
   "source": [
    "! ls"
   ]
  },
  {
   "cell_type": "code",
   "execution_count": null,
   "metadata": {},
   "outputs": [],
   "source": [
    "! pip install -r requirements.txt"
   ]
  },
  {
   "cell_type": "markdown",
   "metadata": {},
   "source": [
    "We will configure the notebooks directory as our working directory in order to simulate a local notebook execution. "
   ]
  },
  {
   "cell_type": "code",
   "execution_count": null,
   "metadata": {},
   "outputs": [],
   "source": [
    "%cd ./notebooks"
   ]
  },
  {
   "cell_type": "markdown",
   "metadata": {},
   "source": [
    "## Import Python packages and create the folders for pre-computed results"
   ]
  },
  {
   "cell_type": "code",
   "execution_count": 1,
   "metadata": {},
   "outputs": [],
   "source": [
    "import sys \n",
    "import os\n",
    "\n",
    "sys.path.append(os.path.join('..'))"
   ]
  },
  {
   "cell_type": "code",
   "execution_count": 2,
   "metadata": {},
   "outputs": [],
   "source": [
    "import pandas as pd\n",
    "import numpy as np"
   ]
  },
  {
   "cell_type": "code",
   "execution_count": 79,
   "metadata": {},
   "outputs": [],
   "source": [
    "import matplotlib.pyplot as plt\n",
    "%matplotlib inline"
   ]
  },
  {
   "cell_type": "code",
   "execution_count": 3,
   "metadata": {},
   "outputs": [],
   "source": [
    "from helpers.train_test_splitter import *\n",
    "from models.pointwise import PointWise\n",
    "from models.pairwise import PairWise\n",
    "from models.mostpop import MostPop\n",
    "from models.random import Random\n",
    "from helpers.utils import *"
   ]
  },
  {
   "cell_type": "markdown",
   "metadata": {},
   "source": [
    "We will define the subfolders in **./data** where we will store our pre-computed results. For each dataset:\n",
    "\n",
    "- *data/outputs/splits* will include two csv files including the train and test interactions, according with the selected train-test split rule. \n",
    "- *data/outputs/instances* will include a csv file with instances to be fed to the model, either pairs for point-wise or triplets for pair-wise recommenders.\n",
    "- *data/outputs/models* will include a h5 file associated with a pre-trained recommender model.  \n",
    "- *data/outputs/predictions* will include a numpy file representing a user-item matrix; a cell stores the relevance score of an item for a given user.\n",
    "- *data/outputs/metrics* will include a pickle dictionary with the computed evaluation metrics for a given recommender model. \n",
    "\n",
    "**N.B.** This strategy will allow us to play with the intermediate outputs of the pipeline, without starting from scratch any time (e.g., for performing a bias treatment as a post-processing, we just need to load the predictions of a model to start). "
   ]
  },
  {
   "cell_type": "code",
   "execution_count": 4,
   "metadata": {},
   "outputs": [],
   "source": [
    "data_path = '../data/'"
   ]
  },
  {
   "cell_type": "code",
   "execution_count": null,
   "metadata": {},
   "outputs": [],
   "source": [
    "!mkdir '../data/outputs'\n",
    "!mkdir '../data/outputs/splits'\n",
    "!mkdir '../data/outputs/instances'\n",
    "!mkdir '../data/outputs/models'\n",
    "!mkdir '../data/outputs/predictions'\n",
    "!mkdir '../data/outputs/metrics'"
   ]
  },
  {
   "cell_type": "markdown",
   "metadata": {},
   "source": [
    "<div class=\"alert alert-warning\">\n",
    "    <h1>Step 1: Load data</h1> <br>\n",
    "</div>"
   ]
  },
  {
   "cell_type": "markdown",
   "metadata": {},
   "source": [
    "First, we will load the **Movielens 1M** dataset, which has been pre-arranged in order to comply with the following structure: user_id, item_id, rating, timestamp, type (label for the item category), and type_id (unique id of the item category). For the sake of tutorial easiness, we assume here that each item is randomly assigned to one of its categories in the original dataset. \n",
    "\n",
    "**N.B.** This toolbox is flexible enough to integrate any other dataset in csv format that has the same structure of the pre-arranged csv shown below. No further changes are then needed to the pipeline in order to experiment with other datasets. The csv file of the new dataset sshould be placed into the *data/datasets/* folder and the name of the file should be assigned to the *dataset* parameter below. "
   ]
  },
  {
   "cell_type": "markdown",
   "metadata": {},
   "source": [
    "### Input of this step: CSV file including user preferences\n",
    "---"
   ]
  },
  {
   "cell_type": "code",
   "execution_count": 5,
   "metadata": {},
   "outputs": [],
   "source": [
    "dataset = 'ml1m'  \n",
    "user_field = 'user_id'\n",
    "item_field = 'item_id'\n",
    "rating_field = 'rating'\n",
    "time_field = 'timestamp'\n",
    "type_field = 'type_id'"
   ]
  },
  {
   "cell_type": "markdown",
   "metadata": {},
   "source": [
    "---"
   ]
  },
  {
   "cell_type": "code",
   "execution_count": 6,
   "metadata": {},
   "outputs": [],
   "source": [
    "data = pd.read_csv(os.path.join(data_path, 'datasets/' + dataset + '.csv'), encoding='utf8')"
   ]
  },
  {
   "cell_type": "code",
   "execution_count": 7,
   "metadata": {},
   "outputs": [
    {
     "data": {
      "text/html": [
       "<div>\n",
       "<style scoped>\n",
       "    .dataframe tbody tr th:only-of-type {\n",
       "        vertical-align: middle;\n",
       "    }\n",
       "\n",
       "    .dataframe tbody tr th {\n",
       "        vertical-align: top;\n",
       "    }\n",
       "\n",
       "    .dataframe thead th {\n",
       "        text-align: right;\n",
       "    }\n",
       "</style>\n",
       "<table border=\"1\" class=\"dataframe\">\n",
       "  <thead>\n",
       "    <tr style=\"text-align: right;\">\n",
       "      <th></th>\n",
       "      <th>user_id</th>\n",
       "      <th>item_id</th>\n",
       "      <th>rating</th>\n",
       "      <th>timestamp</th>\n",
       "      <th>type</th>\n",
       "      <th>type_id</th>\n",
       "    </tr>\n",
       "  </thead>\n",
       "  <tbody>\n",
       "    <tr>\n",
       "      <th>0</th>\n",
       "      <td>1</td>\n",
       "      <td>1193</td>\n",
       "      <td>5.0</td>\n",
       "      <td>2000-12-31 23:12:40</td>\n",
       "      <td>Drama</td>\n",
       "      <td>7</td>\n",
       "    </tr>\n",
       "    <tr>\n",
       "      <th>1</th>\n",
       "      <td>2</td>\n",
       "      <td>1193</td>\n",
       "      <td>5.0</td>\n",
       "      <td>2000-12-31 22:33:33</td>\n",
       "      <td>Drama</td>\n",
       "      <td>7</td>\n",
       "    </tr>\n",
       "    <tr>\n",
       "      <th>2</th>\n",
       "      <td>12</td>\n",
       "      <td>1193</td>\n",
       "      <td>4.0</td>\n",
       "      <td>2000-12-31 00:49:39</td>\n",
       "      <td>Drama</td>\n",
       "      <td>7</td>\n",
       "    </tr>\n",
       "    <tr>\n",
       "      <th>3</th>\n",
       "      <td>15</td>\n",
       "      <td>1193</td>\n",
       "      <td>4.0</td>\n",
       "      <td>2000-12-30 19:01:19</td>\n",
       "      <td>Drama</td>\n",
       "      <td>7</td>\n",
       "    </tr>\n",
       "    <tr>\n",
       "      <th>4</th>\n",
       "      <td>17</td>\n",
       "      <td>1193</td>\n",
       "      <td>5.0</td>\n",
       "      <td>2000-12-30 07:41:11</td>\n",
       "      <td>Drama</td>\n",
       "      <td>7</td>\n",
       "    </tr>\n",
       "  </tbody>\n",
       "</table>\n",
       "</div>"
      ],
      "text/plain": [
       "   user_id  item_id  rating            timestamp   type  type_id\n",
       "0        1     1193     5.0  2000-12-31 23:12:40  Drama        7\n",
       "1        2     1193     5.0  2000-12-31 22:33:33  Drama        7\n",
       "2       12     1193     4.0  2000-12-31 00:49:39  Drama        7\n",
       "3       15     1193     4.0  2000-12-30 19:01:19  Drama        7\n",
       "4       17     1193     5.0  2000-12-30 07:41:11  Drama        7"
      ]
     },
     "execution_count": 7,
     "metadata": {},
     "output_type": "execute_result"
    }
   ],
   "source": [
    "data.head()"
   ]
  },
  {
   "cell_type": "markdown",
   "metadata": {},
   "source": [
    "<div class=\"alert alert-info\" role=\"alert\">\n",
    "  Exercise in brief: find the id of the most popular item (i.e, the item that has received the highest number of ratings).     \n",
    "    \n",
    "**Expected result**: 2858"
   ]
  },
  {
   "cell_type": "code",
   "execution_count": 101,
   "metadata": {},
   "outputs": [],
   "source": [
    "# Please, add your solution here"
   ]
  },
  {
   "cell_type": "markdown",
   "metadata": {},
   "source": [
    "During this tutorial, we will simulate a scenario with **implicit feedback**. We assume that a user is interested in an item, if that item was rated by the user, no matter of the rating value. Other strategies can be easily integrated. \n",
    "\n",
    "**N.B.** Other papers in the literature assumed that an item is relevant for a user, only if the user has given a rating higher than a value X. To implement this strategy here, you just need to change the body of the lambda function below. "
   ]
  },
  {
   "cell_type": "code",
   "execution_count": 8,
   "metadata": {},
   "outputs": [],
   "source": [
    "data[rating_field] = data[rating_field].apply(lambda x: 1.0)"
   ]
  },
  {
   "cell_type": "markdown",
   "metadata": {},
   "source": [
    "### Output of this step: Dataframe / CSV file including pre-processed user preferences \n",
    "---"
   ]
  },
  {
   "cell_type": "code",
   "execution_count": 9,
   "metadata": {},
   "outputs": [
    {
     "data": {
      "text/html": [
       "<div>\n",
       "<style scoped>\n",
       "    .dataframe tbody tr th:only-of-type {\n",
       "        vertical-align: middle;\n",
       "    }\n",
       "\n",
       "    .dataframe tbody tr th {\n",
       "        vertical-align: top;\n",
       "    }\n",
       "\n",
       "    .dataframe thead th {\n",
       "        text-align: right;\n",
       "    }\n",
       "</style>\n",
       "<table border=\"1\" class=\"dataframe\">\n",
       "  <thead>\n",
       "    <tr style=\"text-align: right;\">\n",
       "      <th></th>\n",
       "      <th>user_id</th>\n",
       "      <th>item_id</th>\n",
       "      <th>rating</th>\n",
       "      <th>timestamp</th>\n",
       "      <th>type</th>\n",
       "      <th>type_id</th>\n",
       "    </tr>\n",
       "  </thead>\n",
       "  <tbody>\n",
       "    <tr>\n",
       "      <th>0</th>\n",
       "      <td>1</td>\n",
       "      <td>1193</td>\n",
       "      <td>1.0</td>\n",
       "      <td>2000-12-31 23:12:40</td>\n",
       "      <td>Drama</td>\n",
       "      <td>7</td>\n",
       "    </tr>\n",
       "    <tr>\n",
       "      <th>1</th>\n",
       "      <td>2</td>\n",
       "      <td>1193</td>\n",
       "      <td>1.0</td>\n",
       "      <td>2000-12-31 22:33:33</td>\n",
       "      <td>Drama</td>\n",
       "      <td>7</td>\n",
       "    </tr>\n",
       "    <tr>\n",
       "      <th>2</th>\n",
       "      <td>12</td>\n",
       "      <td>1193</td>\n",
       "      <td>1.0</td>\n",
       "      <td>2000-12-31 00:49:39</td>\n",
       "      <td>Drama</td>\n",
       "      <td>7</td>\n",
       "    </tr>\n",
       "    <tr>\n",
       "      <th>3</th>\n",
       "      <td>15</td>\n",
       "      <td>1193</td>\n",
       "      <td>1.0</td>\n",
       "      <td>2000-12-30 19:01:19</td>\n",
       "      <td>Drama</td>\n",
       "      <td>7</td>\n",
       "    </tr>\n",
       "    <tr>\n",
       "      <th>4</th>\n",
       "      <td>17</td>\n",
       "      <td>1193</td>\n",
       "      <td>1.0</td>\n",
       "      <td>2000-12-30 07:41:11</td>\n",
       "      <td>Drama</td>\n",
       "      <td>7</td>\n",
       "    </tr>\n",
       "  </tbody>\n",
       "</table>\n",
       "</div>"
      ],
      "text/plain": [
       "   user_id  item_id  rating            timestamp   type  type_id\n",
       "0        1     1193     1.0  2000-12-31 23:12:40  Drama        7\n",
       "1        2     1193     1.0  2000-12-31 22:33:33  Drama        7\n",
       "2       12     1193     1.0  2000-12-31 00:49:39  Drama        7\n",
       "3       15     1193     1.0  2000-12-30 19:01:19  Drama        7\n",
       "4       17     1193     1.0  2000-12-30 07:41:11  Drama        7"
      ]
     },
     "execution_count": 9,
     "metadata": {},
     "output_type": "execute_result"
    }
   ],
   "source": [
    "data.head()"
   ]
  },
  {
   "cell_type": "markdown",
   "metadata": {},
   "source": [
    "---"
   ]
  },
  {
   "cell_type": "markdown",
   "metadata": {},
   "source": [
    "<div class=\"alert alert-warning\">\n",
    "    <h1>Step 2: Split data in training and test sets</h1> <br>\n",
    "</div>\n",
    "\n",
    "Once the original dataset has been loaded and the user preferences have been pre-processed, we need to split the whole dataset in two sets: a training set used for optimizing the recommender model and a test set used for evaluating the recommender model. In the literature, a wide range of train-test split strategy exists. This notebook will use a strategy that, for each user, puts the oldest interactions in the training set and the most recent interactions in the test set. The Python toolbox includes also other strategies, such as a random split or a split based on a fixed timestamp (i.e., the most realistic one).    "
   ]
  },
  {
   "cell_type": "markdown",
   "metadata": {},
   "source": [
    "### Input of this step: Dataframe / CSV file including pre-processed user preferences. \n",
    "---"
   ]
  },
  {
   "cell_type": "markdown",
   "metadata": {},
   "source": [
    "- **smode**: 'uftime' for fixed timestamp split, 'utime' for time-based split per user, 'urandom' for random split per user \n",
    "- **train_ratio**: percentage of data to be included in the train set\n",
    "- **min_train**: minimum number of train samples for a user to be included  \n",
    "- **min_test**: minimum number of test samples for a user to be included\n",
    "- **min_time**: start timestamp for computing the splitting timestamp (only for uftime)\n",
    "- **max_time**: end timestamp for computing the splitting timestamp (only for uftime)\n",
    "- **step_time**: timestamp step for computing the splitting timestamp (only for uftime)"
   ]
  },
  {
   "cell_type": "code",
   "execution_count": 10,
   "metadata": {},
   "outputs": [],
   "source": [
    "smode = 'utime'\n",
    "train_ratio = 0.80        \n",
    "min_train_samples = 8\n",
    "min_test_samples = 2\n",
    "min_time = None\n",
    "max_time = None\n",
    "step_time = 1000"
   ]
  },
  {
   "cell_type": "markdown",
   "metadata": {},
   "source": [
    "During this tutorial, we will work with a common **time-based split per user**. For the sake of clarity, we will provide the implementation of this strategy below. The toolbox conserves all the train-test split strategies into the file *helpers/train_test_splitter.py*.  "
   ]
  },
  {
   "cell_type": "code",
   "execution_count": 11,
   "metadata": {},
   "outputs": [],
   "source": [
    "def user_timestamp(interactions,split=0.80,min_samples=10,user_field='user_id',item_field='item_id',time_field='timestamp'):\n",
    "    train_set = []\n",
    "    test_set = []\n",
    "    \n",
    "    groups = interactions.groupby([user_field])\n",
    "    for i, (index, group) in enumerate(groups):\n",
    "        \n",
    "        if i % 1000 == 0:\n",
    "            print('\\r> Parsing user', i+1, 'of', len(groups), end='')\n",
    "        \n",
    "        if len(group.index) < min_samples:\n",
    "            continue\n",
    "        \n",
    "        sorted_group = group.sort_values(time_field)\n",
    "        n_rating_test = int(len(sorted_group.index) * (1.0 - split))\n",
    "        train_set.append(sorted_group.head(len(sorted_group.index) - n_rating_test))\n",
    "        test_set.append(sorted_group.tail(n_rating_test))\n",
    "    \n",
    "    print('\\r> Parsing user', i+1, 'of', len(groups))\n",
    "\n",
    "    train, test = pd.concat(train_set), pd.concat(test_set)\n",
    "    train['set'], test['set'] = 'train', 'test' # Ensure that each row has a column that identifies the associated set\n",
    "\n",
    "    traintest = pd.concat([train, test])\n",
    "    traintest[user_field + '_original'] = traintest[user_field] # Ensure that we save the original user ids\n",
    "    traintest[item_field + '_original'] = traintest[item_field] # Ensure that we save the original item ids\n",
    "    traintest[user_field] = traintest[user_field].astype('category').cat.codes # Ensure that user ids are in [0, |U|] \n",
    "    traintest[item_field] = traintest[item_field].astype('category').cat.codes # Ensure that item ids are in [0, |I|] \n",
    "\n",
    "    return traintest"
   ]
  },
  {
   "cell_type": "markdown",
   "metadata": {},
   "source": [
    "This notebook can be easily run with any of the different train-test split strategies, through the following code. "
   ]
  },
  {
   "cell_type": "code",
   "execution_count": 12,
   "metadata": {},
   "outputs": [
    {
     "name": "stdout",
     "output_type": "stream",
     "text": [
      "> Parsing user 6040 of 6040\n"
     ]
    }
   ],
   "source": [
    "if smode == 'uftime':\n",
    "    traintest = fixed_timestamp(data, min_train_samples, min_test_samples, min_time, max_time, step_time, user_field, item_field, time_field, rating_field)\n",
    "elif smode == 'utime':\n",
    "    traintest = user_timestamp(data, train_ratio, min_train_samples+min_test_samples, user_field, item_field, time_field)\n",
    "elif smode == 'urandom':\n",
    "    traintest = user_random(data, train_ratio, min_train_samples+min_test_samples, user_field, item_field)"
   ]
  },
  {
   "cell_type": "markdown",
   "metadata": {},
   "source": [
    "**N.B.** For the sake of convenience, *user_ids* and *item_ids* have been scaled so that user_ids are in *[0, |U|]* and item_ids are in *[0, |I|]*. To refer back to the original user and item ids, the *user_id_original* and *item_id_original* columns should be used. "
   ]
  },
  {
   "cell_type": "markdown",
   "metadata": {},
   "source": [
    "For the sake of replicability and efficiency of this tutorial, we will save the pre-computed train and test sets in *data/outputs/splits*."
   ]
  },
  {
   "cell_type": "code",
   "execution_count": 13,
   "metadata": {},
   "outputs": [],
   "source": [
    "traintest.to_csv(os.path.join(data_path, 'outputs/splits/' + dataset + '_' + smode + '.csv'))"
   ]
  },
  {
   "cell_type": "markdown",
   "metadata": {},
   "source": [
    "### Output of this step: Dataframe / CSV file with interactions assigned to training and test sets\n",
    "---"
   ]
  },
  {
   "cell_type": "code",
   "execution_count": 14,
   "metadata": {},
   "outputs": [
    {
     "data": {
      "text/html": [
       "<div>\n",
       "<style scoped>\n",
       "    .dataframe tbody tr th:only-of-type {\n",
       "        vertical-align: middle;\n",
       "    }\n",
       "\n",
       "    .dataframe tbody tr th {\n",
       "        vertical-align: top;\n",
       "    }\n",
       "\n",
       "    .dataframe thead th {\n",
       "        text-align: right;\n",
       "    }\n",
       "</style>\n",
       "<table border=\"1\" class=\"dataframe\">\n",
       "  <thead>\n",
       "    <tr style=\"text-align: right;\">\n",
       "      <th></th>\n",
       "      <th>user_id</th>\n",
       "      <th>item_id</th>\n",
       "      <th>rating</th>\n",
       "      <th>timestamp</th>\n",
       "      <th>type</th>\n",
       "      <th>type_id</th>\n",
       "      <th>set</th>\n",
       "      <th>user_id_original</th>\n",
       "      <th>item_id_original</th>\n",
       "    </tr>\n",
       "  </thead>\n",
       "  <tbody>\n",
       "    <tr>\n",
       "      <th>34073</th>\n",
       "      <td>0</td>\n",
       "      <td>2969</td>\n",
       "      <td>1.0</td>\n",
       "      <td>2000-12-31 23:00:19</td>\n",
       "      <td>Drama</td>\n",
       "      <td>7</td>\n",
       "      <td>train</td>\n",
       "      <td>1</td>\n",
       "      <td>3186</td>\n",
       "    </tr>\n",
       "    <tr>\n",
       "      <th>31152</th>\n",
       "      <td>0</td>\n",
       "      <td>1574</td>\n",
       "      <td>1.0</td>\n",
       "      <td>2000-12-31 23:00:55</td>\n",
       "      <td>Romance</td>\n",
       "      <td>13</td>\n",
       "      <td>train</td>\n",
       "      <td>1</td>\n",
       "      <td>1721</td>\n",
       "    </tr>\n",
       "    <tr>\n",
       "      <th>37339</th>\n",
       "      <td>0</td>\n",
       "      <td>957</td>\n",
       "      <td>1.0</td>\n",
       "      <td>2000-12-31 23:00:55</td>\n",
       "      <td>Children's</td>\n",
       "      <td>3</td>\n",
       "      <td>train</td>\n",
       "      <td>1</td>\n",
       "      <td>1022</td>\n",
       "    </tr>\n",
       "    <tr>\n",
       "      <th>23270</th>\n",
       "      <td>0</td>\n",
       "      <td>1178</td>\n",
       "      <td>1.0</td>\n",
       "      <td>2000-12-31 23:00:55</td>\n",
       "      <td>Sci-Fi</td>\n",
       "      <td>14</td>\n",
       "      <td>train</td>\n",
       "      <td>1</td>\n",
       "      <td>1270</td>\n",
       "    </tr>\n",
       "    <tr>\n",
       "      <th>28157</th>\n",
       "      <td>0</td>\n",
       "      <td>2147</td>\n",
       "      <td>1.0</td>\n",
       "      <td>2000-12-31 23:01:43</td>\n",
       "      <td>Romance</td>\n",
       "      <td>13</td>\n",
       "      <td>train</td>\n",
       "      <td>1</td>\n",
       "      <td>2340</td>\n",
       "    </tr>\n",
       "  </tbody>\n",
       "</table>\n",
       "</div>"
      ],
      "text/plain": [
       "       user_id  item_id  rating            timestamp        type  type_id  \\\n",
       "34073        0     2969     1.0  2000-12-31 23:00:19       Drama        7   \n",
       "31152        0     1574     1.0  2000-12-31 23:00:55     Romance       13   \n",
       "37339        0      957     1.0  2000-12-31 23:00:55  Children's        3   \n",
       "23270        0     1178     1.0  2000-12-31 23:00:55      Sci-Fi       14   \n",
       "28157        0     2147     1.0  2000-12-31 23:01:43     Romance       13   \n",
       "\n",
       "         set  user_id_original  item_id_original  \n",
       "34073  train                 1              3186  \n",
       "31152  train                 1              1721  \n",
       "37339  train                 1              1022  \n",
       "23270  train                 1              1270  \n",
       "28157  train                 1              2340  "
      ]
     },
     "execution_count": 14,
     "metadata": {},
     "output_type": "execute_result"
    }
   ],
   "source": [
    "traintest.head()"
   ]
  },
  {
   "cell_type": "markdown",
   "metadata": {},
   "source": [
    "---"
   ]
  },
  {
   "cell_type": "markdown",
   "metadata": {},
   "source": [
    "<div class=\"alert alert-warning\">\n",
    "    <h1>Step 3: Train the recommender model</h1> <br>\n",
    "</div>"
   ]
  },
  {
   "cell_type": "markdown",
   "metadata": {},
   "source": [
    "### Input of this step: Dataframe / CSV file with interactions assigned to training and test sets\n",
    "---"
   ]
  },
  {
   "cell_type": "code",
   "execution_count": 15,
   "metadata": {},
   "outputs": [],
   "source": [
    "train = traintest[traintest['set']=='train'].copy()\n",
    "test = traintest[traintest['set']=='test'].copy()"
   ]
  },
  {
   "cell_type": "markdown",
   "metadata": {},
   "source": [
    "---"
   ]
  },
  {
   "cell_type": "markdown",
   "metadata": {},
   "source": [
    "<div class=\"alert alert-info\" role=\"alert\">\n",
    "  Exercise in brief: plot the distribution of interactions per item in the training set and in the test set, separately.    \n",
    "    \n",
    "**Expected result**: ![caption](train_test_pop_distr.png)"
   ]
  },
  {
   "cell_type": "code",
   "execution_count": 96,
   "metadata": {},
   "outputs": [],
   "source": [
    "# Please, add your solution here"
   ]
  },
  {
   "cell_type": "markdown",
   "metadata": {},
   "source": [
    "First, we show some statistics about the training and test sets, e.g., number of users and items. "
   ]
  },
  {
   "cell_type": "code",
   "execution_count": 16,
   "metadata": {},
   "outputs": [],
   "source": [
    "users = list(np.unique(traintest[user_field].values))\n",
    "items = list(np.unique(traintest[item_field].values))"
   ]
  },
  {
   "cell_type": "code",
   "execution_count": 17,
   "metadata": {},
   "outputs": [
    {
     "data": {
      "text/plain": [
       "(6040, 3706)"
      ]
     },
     "execution_count": 17,
     "metadata": {},
     "output_type": "execute_result"
    }
   ],
   "source": [
    "len(users), len(items)"
   ]
  },
  {
   "cell_type": "markdown",
   "metadata": {},
   "source": [
    "Given that some recommender models may require the category of an item, we create a vector of size *|I|* including the integer-encoded category of the item with id *X* at position *X* of the vector. "
   ]
  },
  {
   "cell_type": "code",
   "execution_count": 18,
   "metadata": {},
   "outputs": [],
   "source": [
    "category_per_item = traintest.drop_duplicates(subset=['item_id'], keep='first')[type_field].values"
   ]
  },
  {
   "cell_type": "code",
   "execution_count": 19,
   "metadata": {},
   "outputs": [
    {
     "data": {
      "text/plain": [
       "18"
      ]
     },
     "execution_count": 19,
     "metadata": {},
     "output_type": "execute_result"
    }
   ],
   "source": [
    "len(np.unique(category_per_item))"
   ]
  },
  {
   "cell_type": "markdown",
   "metadata": {},
   "source": [
    "For the sake of easiness and time, this tutorial focuses on four main recommendation strategies: \n",
    "- *Random*: randomly recommending a list of items to a user. \n",
    "- *MostPop*: recommending the same most popular items (i.e, those which received the highest number of ratings) to all users.\n",
    "- *PointWise*: given a user-item pair, it is optimized for predicting a higher score (1) when the current item has been rated by the user, and a lower score (0) otherwise. The training instances include a good reprsentation of both types of pairs.   \n",
    "- *PairWise*: given a triplet with a user, an observed item, and an unobserved item, it is optimized for predicting a higher relevance for the pair of user and unobserved item rather than for the pair of user and unobserved item. \n",
    "\n",
    "Each model inherits from the Model class defined in *models/model.py* and extends it by overwriting the *train* and *predict* functions of the original model class. This allows us to minimize the reuse of the code. More details on the implementation of the pairwise recommender can be found into *models/pairwise.py*.  "
   ]
  },
  {
   "cell_type": "code",
   "execution_count": 20,
   "metadata": {},
   "outputs": [],
   "source": [
    "model_types = {'random': Random, 'mostpop': MostPop, 'pointwise': PointWise, 'pairwise': PairWise}"
   ]
  },
  {
   "cell_type": "markdown",
   "metadata": {},
   "source": [
    "First, we need to initialize the model. We will see how the process works for a PairWise algorithm. Then, we will consider the other ones. "
   ]
  },
  {
   "cell_type": "code",
   "execution_count": 57,
   "metadata": {},
   "outputs": [
    {
     "name": "stdout",
     "output_type": "stream",
     "text": [
      "Initializing user, item, and categories lists\n",
      "Initializing observed, unobserved, and predicted relevance scores\n",
      "Initializing item popularity lists\n",
      "Initializing category per item\n",
      "Initializing category preference per user\n",
      "Initializing metrics\n",
      "Wall time: 7.6 s\n"
     ]
    }
   ],
   "source": [
    "model_type = 'pairwise'\n",
    "%time model = PairWise(users, items, train, test, category_per_item, item_field, user_field, rating_field)"
   ]
  },
  {
   "cell_type": "markdown",
   "metadata": {},
   "source": [
    "We will train the model by feeding the train data we previously prepared, using the following default parameters. \n",
    "\n",
    "- *no_epochs* (default 100): maximum number of epochs until which the training process will be run. \n",
    "- *batches* (default 1024): size of the batches fed into the model during training. \n",
    "- *lr* (default 0.001): learning rate defining the pace at which the model will be trained. \n",
    "- *no_factors* (default 10): size of the latent vectors associated to users and items. \n",
    "- *no_negatives* (default 10): number of triplets for each user-item pair included in the training set. \n",
    "- *val_split* (default 0.0001): proportion of the training set used for validation. \n",
    "\n",
    "**N.B.** For the sake of tutorial efficiency, we force to stop the training process after 5 epochs (i.e., reasonable trade-off). No grid search on the recommender model is performed at this stage. "
   ]
  },
  {
   "cell_type": "code",
   "execution_count": 58,
   "metadata": {},
   "outputs": [
    {
     "name": "stdout",
     "output_type": "stream",
     "text": [
      "Generating training instances of type pair\n",
      "Computing instances for interaction 800000 / 803798 of type pair\n",
      "Performing training - Epochs 5 Batch Size 1024 Learning Rate 0.001 Factors 10 Negatives 10 Mode pair\n",
      "Train on 7957600 samples\n",
      "7957600/7957600 [==============================] - 23s 3us/sample - loss: 0.1878\n",
      "Validation accuracy: 0.8716098531973128 (Sample 80379 of 80380)\n",
      "Train on 7957600 samples\n",
      "Epoch 2/2\n",
      "7957600/7957600 [==============================] - 23s 3us/sample - loss: 0.1255\n",
      "Train on 7957600 samples\n",
      "Epoch 3/3\n",
      "7957600/7957600 [==============================] - 22s 3us/sample - loss: 0.1087\n",
      "Train on 7957600 samples\n",
      "Epoch 4/4\n",
      "7957600/7957600 [==============================] - 23s 3us/sample - loss: 0.0966\n",
      "Train on 7957600 samples\n",
      "Epoch 5/5\n",
      "7957600/7957600 [==============================] - 23s 3us/sample - loss: 0.0877\n",
      "Validation accuracy: 0.9180019905449117 (Sample 80379 of 80380)\n",
      "Wall time: 2min 21s\n"
     ]
    }
   ],
   "source": [
    "%time model.train(no_epochs=5) "
   ]
  },
  {
   "cell_type": "markdown",
   "metadata": {},
   "source": [
    "The architecture of the trained model looks as follows. Essentially, the model includes:\n",
    "- *UserEmb* encoding a latent vector for each user.\n",
    "- *ItemEmb* encoding a latent vector for each item.\n",
    "- *FlatUserEmb* represents the vector associated with the current user *UserInput*.\n",
    "- *FlatPosItemEmb* represents the vectors associated with the current observed item *PosItemInput*.\n",
    "- *FlatNegItemEmb* represents the vectors associated with the current unobserved item *NegItemInput*.\n",
    "- *Accuracy* computes the margin between (i) the *FlatUserEmb-FlatPosItemEmb* and (ii) the *FlatUserEmb-FlatNegItemEmb* similarity scores.  "
   ]
  },
  {
   "cell_type": "code",
   "execution_count": 59,
   "metadata": {},
   "outputs": [
    {
     "name": "stdout",
     "output_type": "stream",
     "text": [
      "Model: \"model_2\"\n",
      "__________________________________________________________________________________________________\n",
      "Layer (type)                    Output Shape         Param #     Connected to                     \n",
      "==================================================================================================\n",
      "UserInput (InputLayer)          [(None, 1)]          0                                            \n",
      "__________________________________________________________________________________________________\n",
      "PosItemInput (InputLayer)       [(None, 1)]          0                                            \n",
      "__________________________________________________________________________________________________\n",
      "NegItemInput (InputLayer)       [(None, 1)]          0                                            \n",
      "__________________________________________________________________________________________________\n",
      "UserEmb (Embedding)             (None, 1, 10)        60410       UserInput[0][0]                  \n",
      "__________________________________________________________________________________________________\n",
      "ItemEmb (Embedding)             (None, 1, 10)        37070       PosItemInput[0][0]               \n",
      "                                                                 NegItemInput[0][0]               \n",
      "__________________________________________________________________________________________________\n",
      "FlatUserEmb (Flatten)           (None, 10)           0           UserEmb[0][0]                    \n",
      "__________________________________________________________________________________________________\n",
      "FlatPosItemEmb (Flatten)        (None, 10)           0           ItemEmb[0][0]                    \n",
      "__________________________________________________________________________________________________\n",
      "FlatNegItemEmb (Flatten)        (None, 10)           0           ItemEmb[1][0]                    \n",
      "__________________________________________________________________________________________________\n",
      "Accuracy (Lambda)               (None, 1)            0           FlatUserEmb[0][0]                \n",
      "                                                                 FlatPosItemEmb[0][0]             \n",
      "                                                                 FlatNegItemEmb[0][0]             \n",
      "==================================================================================================\n",
      "Total params: 97,480\n",
      "Trainable params: 97,480\n",
      "Non-trainable params: 0\n",
      "__________________________________________________________________________________________________\n"
     ]
    }
   ],
   "source": [
    "model.print()"
   ]
  },
  {
   "cell_type": "markdown",
   "metadata": {},
   "source": [
    "### Output of this step: H5 TensorFlow model pre-trained with the interactions in the training set\n",
    "---\n",
    "\n",
    "The model file is saved in *data/outputs/models*. "
   ]
  },
  {
   "cell_type": "code",
   "execution_count": 60,
   "metadata": {},
   "outputs": [
    {
     "data": {
      "text/plain": [
       "<models.pairwise.PairWise at 0x13ba51be940>"
      ]
     },
     "execution_count": 60,
     "metadata": {},
     "output_type": "execute_result"
    }
   ],
   "source": [
    "model"
   ]
  },
  {
   "cell_type": "markdown",
   "metadata": {},
   "source": [
    "---"
   ]
  },
  {
   "cell_type": "markdown",
   "metadata": {},
   "source": [
    "<div class=\"alert alert-warning\">\n",
    "    <h1>Step 4: Compute user-item relevance scores</h1> <br>\n",
    "</div>\n",
    "\n",
    "Once the recommender model has been trained, we leverage the pre-trained user and item Embedding matrices in order to compute the relevance score predicted for each unseen user-item pair. For all the user-item pairs, the prediction step requires to extract the user and item vector associated to the current user-item pair and, then, compute the similarity between the two - cosine or dot similarity are usually used at this stage.  "
   ]
  },
  {
   "cell_type": "markdown",
   "metadata": {},
   "source": [
    "### Input of this stage: H5 Tensorflow model pre-trained with the interactions in the training set\n",
    "---\n"
   ]
  },
  {
   "cell_type": "code",
   "execution_count": 61,
   "metadata": {},
   "outputs": [
    {
     "data": {
      "text/plain": [
       "<models.pairwise.PairWise at 0x13ba51be940>"
      ]
     },
     "execution_count": 61,
     "metadata": {},
     "output_type": "execute_result"
    }
   ],
   "source": [
    "model"
   ]
  },
  {
   "cell_type": "markdown",
   "metadata": {},
   "source": [
    "---"
   ]
  },
  {
   "cell_type": "markdown",
   "metadata": {},
   "source": [
    "Now, we will use the pre-trained model to predict the user-item relevance scores."
   ]
  },
  {
   "cell_type": "code",
   "execution_count": 62,
   "metadata": {},
   "outputs": [
    {
     "name": "stdout",
     "output_type": "stream",
     "text": [
      "Computing predictions\n"
     ]
    }
   ],
   "source": [
    "model.predict()"
   ]
  },
  {
   "cell_type": "markdown",
   "metadata": {},
   "source": [
    "For the sake of easiness, you could directly manipulate the user-item relevance matrix as a numpy array. "
   ]
  },
  {
   "cell_type": "code",
   "execution_count": 63,
   "metadata": {},
   "outputs": [],
   "source": [
    "scores = model.get_predictions()"
   ]
  },
  {
   "cell_type": "markdown",
   "metadata": {},
   "source": [
    "Hence, we can access to the relevance score of the user *120* for the item *320* as follows. "
   ]
  },
  {
   "cell_type": "code",
   "execution_count": 64,
   "metadata": {},
   "outputs": [
    {
     "data": {
      "text/plain": [
       "5.455412864685059"
      ]
     },
     "execution_count": 64,
     "metadata": {},
     "output_type": "execute_result"
    }
   ],
   "source": [
    "user_id, item_id = 120, 320\n",
    "scores[user_id, item_id]"
   ]
  },
  {
   "cell_type": "markdown",
   "metadata": {},
   "source": [
    "<div class=\"alert alert-info\" role=\"alert\">\n",
    "  Exercise in brief: compute the range of the scores on the whole population of users.     \n",
    "       \n",
    "**Expected result**: (-31.945167541503906, 39.834774017333984)"
   ]
  },
  {
   "cell_type": "code",
   "execution_count": 66,
   "metadata": {},
   "outputs": [],
   "source": [
    "# Please, add your solution here"
   ]
  },
  {
   "cell_type": "markdown",
   "metadata": {},
   "source": [
    "For the sake of convenience, we will save the predicted scores. They are often used as an input for re-ranking treatments against bias. "
   ]
  },
  {
   "cell_type": "code",
   "execution_count": 29,
   "metadata": {},
   "outputs": [],
   "source": [
    "save_obj(scores, os.path.join(data_path, 'outputs/predictions/' + dataset + '_' + smode + '_' + model_type + '_scores.pkl'))"
   ]
  },
  {
   "cell_type": "markdown",
   "metadata": {},
   "source": [
    "<div class=\"alert alert-info\" role=\"alert\">\n",
    "  Exercise in brief: retrieve the ids of the 10 items having the highest relevance score for the user with id 47.   \n",
    "       \n",
    "**Expected result**: [1106,  253, 1848, 1120, 1108, 1449,  466,  106, 2374,  575]"
   ]
  },
  {
   "cell_type": "code",
   "execution_count": 104,
   "metadata": {},
   "outputs": [],
   "source": [
    "# Please, add your solution here"
   ]
  },
  {
   "cell_type": "markdown",
   "metadata": {},
   "source": [
    "### Output of this step: Numpy matrix of size |U|*|I| containing the user-item relevance scores\n",
    "---"
   ]
  },
  {
   "cell_type": "code",
   "execution_count": 30,
   "metadata": {},
   "outputs": [
    {
     "data": {
      "text/plain": [
       "(6040, 3706)"
      ]
     },
     "execution_count": 30,
     "metadata": {},
     "output_type": "execute_result"
    }
   ],
   "source": [
    "scores.shape"
   ]
  },
  {
   "cell_type": "markdown",
   "metadata": {},
   "source": [
    "---"
   ]
  },
  {
   "cell_type": "markdown",
   "metadata": {},
   "source": [
    "<div class=\"alert alert-warning\">\n",
    "    <h1>Step 5: Generate recommendations and compute evaluation metrics</h1> <br>\n",
    "</div>\n",
    "\n",
    "Finally, with the user-item relevance scores predicted in the previous step, we can generate the recommendations for each user and, then, compute a set of well-known evaluation metrics for recommender systems. "
   ]
  },
  {
   "cell_type": "markdown",
   "metadata": {},
   "source": [
    "### Input of this step: Numpy matrix of size |U|*|I| containing the user-item relevance scores and a list of cutoffs\n",
    "---"
   ]
  },
  {
   "cell_type": "code",
   "execution_count": 31,
   "metadata": {},
   "outputs": [
    {
     "data": {
      "text/plain": [
       "(6040, 3706)"
      ]
     },
     "execution_count": 31,
     "metadata": {},
     "output_type": "execute_result"
    }
   ],
   "source": [
    "scores.shape"
   ]
  },
  {
   "cell_type": "code",
   "execution_count": 32,
   "metadata": {},
   "outputs": [],
   "source": [
    "cutoffs = np.array([5, 10, 20])"
   ]
  },
  {
   "cell_type": "markdown",
   "metadata": {},
   "source": [
    "---"
   ]
  },
  {
   "cell_type": "markdown",
   "metadata": {},
   "source": [
    "For the sake of convenience, for the considered recommender model, we also compute some fairness metrics required for the case studies. The following line of code loads the demographic membership of providers, which will be discussed in detail in Notebook #03.\n",
    "\n",
    "**N.B.** While the gender is by no means a binary construct, to the best of our knowledge no dataset for speaker recognition with non-binary genders exists. What we are considering is a binary feature, as the current publicly available datasets offer."
   ]
  },
  {
   "cell_type": "code",
   "execution_count": 33,
   "metadata": {},
   "outputs": [],
   "source": [
    "gender_item_association = pd.read_csv(os.path.join(data_path, 'datasets', 'ml1m-dir-gender.csv')) "
   ]
  },
  {
   "cell_type": "markdown",
   "metadata": {},
   "source": [
    "This dataframes includes, for each item, the percentage of providers with gender_1 and gender_2 for that item, respectively. "
   ]
  },
  {
   "cell_type": "code",
   "execution_count": 52,
   "metadata": {},
   "outputs": [
    {
     "data": {
      "text/html": [
       "<div>\n",
       "<style scoped>\n",
       "    .dataframe tbody tr th:only-of-type {\n",
       "        vertical-align: middle;\n",
       "    }\n",
       "\n",
       "    .dataframe tbody tr th {\n",
       "        vertical-align: top;\n",
       "    }\n",
       "\n",
       "    .dataframe thead th {\n",
       "        text-align: right;\n",
       "    }\n",
       "</style>\n",
       "<table border=\"1\" class=\"dataframe\">\n",
       "  <thead>\n",
       "    <tr style=\"text-align: right;\">\n",
       "      <th></th>\n",
       "      <th>item_id</th>\n",
       "      <th>gender_1</th>\n",
       "      <th>gender_2</th>\n",
       "    </tr>\n",
       "  </thead>\n",
       "  <tbody>\n",
       "    <tr>\n",
       "      <th>0</th>\n",
       "      <td>661</td>\n",
       "      <td>0.0</td>\n",
       "      <td>1.0</td>\n",
       "    </tr>\n",
       "    <tr>\n",
       "      <th>1</th>\n",
       "      <td>914</td>\n",
       "      <td>0.0</td>\n",
       "      <td>1.0</td>\n",
       "    </tr>\n",
       "    <tr>\n",
       "      <th>2</th>\n",
       "      <td>3408</td>\n",
       "      <td>0.0</td>\n",
       "      <td>1.0</td>\n",
       "    </tr>\n",
       "    <tr>\n",
       "      <th>3</th>\n",
       "      <td>2355</td>\n",
       "      <td>0.0</td>\n",
       "      <td>1.0</td>\n",
       "    </tr>\n",
       "    <tr>\n",
       "      <th>4</th>\n",
       "      <td>1197</td>\n",
       "      <td>0.0</td>\n",
       "      <td>1.0</td>\n",
       "    </tr>\n",
       "  </tbody>\n",
       "</table>\n",
       "</div>"
      ],
      "text/plain": [
       "   item_id  gender_1  gender_2\n",
       "0      661       0.0       1.0\n",
       "1      914       0.0       1.0\n",
       "2     3408       0.0       1.0\n",
       "3     2355       0.0       1.0\n",
       "4     1197       0.0       1.0"
      ]
     },
     "execution_count": 52,
     "metadata": {},
     "output_type": "execute_result"
    }
   ],
   "source": [
    "gender_item_association.head()"
   ]
  },
  {
   "cell_type": "markdown",
   "metadata": {},
   "source": [
    "<div class=\"alert alert-info\" role=\"alert\">\n",
    "  Exercise in brief: compute the percentage of items where at least one provider having gender_1 is represented.  \n",
    "    \n",
    "**Expected result**: 0.05"
   ]
  },
  {
   "cell_type": "code",
   "execution_count": 55,
   "metadata": {},
   "outputs": [],
   "source": [
    "# Please, add your solution here"
   ]
  },
  {
   "cell_type": "code",
   "execution_count": 34,
   "metadata": {},
   "outputs": [],
   "source": [
    "gender_maps = {i:g for i, g in zip(gender_item_association['item_id'], gender_item_association['gender_1'])}\n",
    "item_maps = {i1:i2 for i1, i2 in zip(traintest['item_id'].unique(), traintest['item_id_original'].unique())}"
   ]
  },
  {
   "cell_type": "code",
   "execution_count": 35,
   "metadata": {},
   "outputs": [],
   "source": [
    "item_group = [(1 if item_maps[i] in gender_maps and gender_maps[item_maps[i]] == 0 else 0) for i in range(len(items))]"
   ]
  },
  {
   "cell_type": "markdown",
   "metadata": {},
   "source": [
    "Then, we run the function which computes all the metrics relevant for the subsequent case studies. "
   ]
  },
  {
   "cell_type": "code",
   "execution_count": 36,
   "metadata": {},
   "outputs": [
    {
     "name": "stdout",
     "output_type": "stream",
     "text": [
      "Computing metrics for user 6040 / 6040\n"
     ]
    }
   ],
   "source": [
    "model.test(item_group=item_group, cutoffs=cutoffs)"
   ]
  },
  {
   "cell_type": "markdown",
   "metadata": {},
   "source": [
    "The method has pre-computed a set of metrics and saved the corresponding values in a Python dictionary, as detailed below. "
   ]
  },
  {
   "cell_type": "code",
   "execution_count": 37,
   "metadata": {},
   "outputs": [],
   "source": [
    "metrics = model.get_metrics()"
   ]
  },
  {
   "cell_type": "code",
   "execution_count": 38,
   "metadata": {},
   "outputs": [
    {
     "data": {
      "text/plain": [
       "dict_keys(['precision', 'recall', 'ndcg', 'hit', 'mean_popularity', 'diversity', 'novelty', 'item_coverage', 'visibility', 'exposure'])"
      ]
     },
     "execution_count": 38,
     "metadata": {},
     "output_type": "execute_result"
    }
   ],
   "source": [
    "metrics.keys()"
   ]
  },
  {
   "cell_type": "markdown",
   "metadata": {},
   "source": [
    "The values for each metrics have been computed and store for each cutoff."
   ]
  },
  {
   "cell_type": "code",
   "execution_count": 39,
   "metadata": {},
   "outputs": [
    {
     "name": "stdout",
     "output_type": "stream",
     "text": [
      "(3, 6040) precision\n",
      "(3, 6040) recall\n",
      "(3, 6040) ndcg\n",
      "(3, 6040) hit\n",
      "(3, 6040) mean_popularity\n",
      "(3, 6040) diversity\n",
      "(3, 6040) novelty\n",
      "(3, 3706) item_coverage\n",
      "(3, 6040) visibility\n",
      "(3, 6040) exposure\n"
     ]
    }
   ],
   "source": [
    "for name, values in metrics.items():\n",
    "    print(values.shape, name)"
   ]
  },
  {
   "cell_type": "markdown",
   "metadata": {},
   "source": [
    "For instance, we can access to the NDCG score for the user *120* at cutoff *10*, with the following commands."
   ]
  },
  {
   "cell_type": "code",
   "execution_count": 40,
   "metadata": {},
   "outputs": [
    {
     "data": {
      "text/plain": [
       "0.2583297509898471"
      ]
     },
     "execution_count": 40,
     "metadata": {},
     "output_type": "execute_result"
    }
   ],
   "source": [
    "user_id, cutoff_index = 1324, int(np.where(cutoffs == 10)[0])\n",
    "metrics['ndcg'][cutoff_index, user_id]"
   ]
  },
  {
   "cell_type": "markdown",
   "metadata": {},
   "source": [
    "<div class=\"alert alert-info\" role=\"alert\">\n",
    "  Exercise in brief: compute and print the catalog coverage (i.e., percentage of items recommended at least once) at a cutoff of 20.  \n",
    "    \n",
    "**Expected result**: 0.30"
   ]
  },
  {
   "cell_type": "code",
   "execution_count": 51,
   "metadata": {},
   "outputs": [],
   "source": [
    "# Please, add your solution here"
   ]
  },
  {
   "cell_type": "markdown",
   "metadata": {},
   "source": [
    "For the sake of convenience, we will save the compted metrics."
   ]
  },
  {
   "cell_type": "code",
   "execution_count": 41,
   "metadata": {},
   "outputs": [],
   "source": [
    "save_obj(metrics, os.path.join(data_path, 'outputs/metrics/' + dataset + '_' + smode + '_' + model_type + '_metrics.pkl'))"
   ]
  },
  {
   "cell_type": "markdown",
   "metadata": {},
   "source": [
    "We can also see the aggregated values. "
   ]
  },
  {
   "cell_type": "code",
   "execution_count": 42,
   "metadata": {},
   "outputs": [
    {
     "name": "stdout",
     "output_type": "stream",
     "text": [
      "Precision: 0.1164 \n",
      "Recall: 0.0484 \n",
      "NDCG: 0.1269 \n",
      "Hit Rate: 0.5187 \n",
      "Avg Popularity: 1903.2718 \n",
      "Category Diversity: 0.3209 \n",
      "Novelty: 1.7948 \n",
      "Item Coverage: 0.22 \n",
      "User Coverage: 0.5187\n",
      "Minority Exposure: 0.0501\n",
      "Minority Visibility: 0.0434\n"
     ]
    }
   ],
   "source": [
    "model.show_metrics(index_k=int(np.where(cutoffs == 10)[0]))"
   ]
  },
  {
   "cell_type": "markdown",
   "metadata": {},
   "source": [
    "### Output of this step: Dictionary of evaluation metrics \n",
    "---"
   ]
  },
  {
   "cell_type": "code",
   "execution_count": 43,
   "metadata": {},
   "outputs": [
    {
     "data": {
      "text/plain": [
       "'precision - recall - ndcg - hit - mean_popularity - diversity - novelty - item_coverage - visibility - exposure'"
      ]
     },
     "execution_count": 43,
     "metadata": {},
     "output_type": "execute_result"
    }
   ],
   "source": [
    "' - '.join(list(metrics.keys()))"
   ]
  },
  {
   "cell_type": "markdown",
   "metadata": {},
   "source": [
    "---"
   ]
  },
  {
   "cell_type": "markdown",
   "metadata": {},
   "source": [
    "<div class=\"alert alert-warning\">\n",
    "    <h1>Step 7: Run the pipeline for Random, MostPop, and PointWise</h1> <br>\n",
    "</div>"
   ]
  },
  {
   "cell_type": "markdown",
   "metadata": {},
   "source": [
    "We will define a utility function to run all the above operations jointly for each of the other recommender models."
   ]
  },
  {
   "cell_type": "code",
   "execution_count": 44,
   "metadata": {},
   "outputs": [],
   "source": [
    "def run_model(model_type, no_epochs=None):\n",
    "    print('Running model', model_type)\n",
    "    model = model_types[model_type](users, items, train, test, category_per_item, item_field, user_field, rating_field)\n",
    "    model.train(no_epochs=no_epochs) if no_epochs else model.train() \n",
    "    model.predict()\n",
    "    scores = model.get_predictions()\n",
    "    save_obj(scores, os.path.join(data_path, 'outputs/predictions/' + dataset + '_' + smode + '_' + model_type + '_scores.pkl'))\n",
    "    model.test(item_group=item_group, cutoffs=cutoffs)\n",
    "    metrics = model.get_metrics()\n",
    "    save_obj(metrics, os.path.join(data_path, 'outputs/metrics/' + dataset + '_' + smode + '_' + model_type + '_metrics.pkl'))\n",
    "    print('\\n\\nFinal evaluation metrics:')\n",
    "    model.show_metrics(index_k=int(np.where(cutoffs == 10)[0]))"
   ]
  },
  {
   "cell_type": "code",
   "execution_count": 45,
   "metadata": {},
   "outputs": [
    {
     "name": "stdout",
     "output_type": "stream",
     "text": [
      "Running model random\n",
      "Initializing user, item, and categories lists\n",
      "Initializing observed, unobserved, and predicted relevance scores\n",
      "Initializing item popularity lists\n",
      "Initializing category per item\n",
      "Initializing category preference per user\n",
      "Initializing metrics\n",
      "Computing predictions\n",
      "Computing metrics for user 6040 / 6040\n",
      "\n",
      "\n",
      "Final evaluation metrics:\n",
      "Precision: 0.0092 \n",
      "Recall: 0.0027 \n",
      "NDCG: 0.0092 \n",
      "Hit Rate: 0.0851 \n",
      "Avg Popularity: 198.1405 \n",
      "Category Diversity: 0.3285 \n",
      "Novelty: 6.9874 \n",
      "Item Coverage: 1.0 \n",
      "User Coverage: 0.0851\n",
      "Minority Exposure: 0.1683\n",
      "Minority Visibility: 0.1673\n"
     ]
    }
   ],
   "source": [
    "run_model('random')"
   ]
  },
  {
   "cell_type": "code",
   "execution_count": 46,
   "metadata": {},
   "outputs": [
    {
     "name": "stdout",
     "output_type": "stream",
     "text": [
      "Running model mostpop\n",
      "Initializing user, item, and categories lists\n",
      "Initializing observed, unobserved, and predicted relevance scores\n",
      "Initializing item popularity lists\n",
      "Initializing category per item\n",
      "Initializing category preference per user\n",
      "Initializing metrics\n",
      "Computing predictions\n",
      "Computing metrics for user 6040 / 6040\n",
      "\n",
      "\n",
      "Final evaluation metrics:\n",
      "Precision: 0.1007 \n",
      "Recall: 0.0384 \n",
      "NDCG: 0.1096 \n",
      "Hit Rate: 0.4422 \n",
      "Avg Popularity: 2328.0848 \n",
      "Category Diversity: 0.3293 \n",
      "Novelty: 1.3922 \n",
      "Item Coverage: 0.03 \n",
      "User Coverage: 0.4422\n",
      "Minority Exposure: 0.0509\n",
      "Minority Visibility: 0.0616\n"
     ]
    }
   ],
   "source": [
    "run_model('mostpop')"
   ]
  },
  {
   "cell_type": "code",
   "execution_count": null,
   "metadata": {},
   "outputs": [],
   "source": [
    "run_model('pointwise', no_epochs=5)"
   ]
  },
  {
   "cell_type": "markdown",
   "metadata": {},
   "source": [
    "<div class=\"alert alert-warning\">\n",
    "    <h1>Follow-up: how to extend the toolbox</h1> <br>\n",
    "</div>\n",
    "\n",
    "- New splitter: take a look at the helpers/train_test_splitter.py file and how the existing generators have been defined. \n",
    "- New train instances creator: similarly, take a look at the helpers/instances_creator.py file and how the existing generators have been defined. \n",
    "- New model: a new subclass of the Model class defined in models/model.py should be defined, implementing a 'train' and a 'predict' method. \n",
    "- New metrics: both the 'test' and 'show_metrics' methods of models/model.py should be extended with the computation needed by the new metric.  "
   ]
  }
 ],
 "metadata": {
  "kernelspec": {
   "display_name": "Python 3",
   "language": "python",
   "name": "python3"
  },
  "language_info": {
   "codemirror_mode": {
    "name": "ipython",
    "version": 3
   },
   "file_extension": ".py",
   "mimetype": "text/x-python",
   "name": "python",
   "nbconvert_exporter": "python",
   "pygments_lexer": "ipython3",
   "version": "3.6.8"
  }
 },
 "nbformat": 4,
 "nbformat_minor": 1
}
