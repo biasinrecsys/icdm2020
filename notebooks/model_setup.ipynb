{
 "cells": [
  {
   "cell_type": "markdown",
   "metadata": {
    "collapsed": true
   },
   "source": [
    "# Notebook #01: Designing and evaluating a recommendation algorithm\n",
    "\n",
    "In this notebook, we will focus on becoming familiar with the recommendation pipeline through a custom Python toolbox, in the simplest possible way. First, we will setup the working environment in GDrive. Then, we will follow the experimental pipeline syep by step, by:\n",
    "- loading the Movielens 1M dataset; \n",
    "- performing a train-test splitting;\n",
    "- creating a pointwise / pairwise / random / mostpop recommendation object;\n",
    "- training the model, when applicable;\n",
    "- computing the user-item matrix of predicted relevance scores;\n",
    "- calculating a set of evaluation metrics, such as Normalized Discounter Cumulative Gain (NDCG), Coverage, and Novelty. \n",
    "\n",
    "The trained models, together with the partial computation we will save (e.g., user-item relevance matrix or metrics), will be the starting point of the investigation and the treatment covered by the other Jupyter notebooks."
   ]
  },
  {
   "cell_type": "markdown",
   "metadata": {},
   "source": [
    "## Warm-up: Setup the working environment for this notebook\n",
    "\n",
    "- Python 3.6\n",
    "- Package Requirements: pandas, numpy, scipy, matplotlib, scikit-learn, tensorflow. \n",
    "- GDrive storage requirements: ~1GB"
   ]
  },
  {
   "cell_type": "markdown",
   "metadata": {},
   "source": [
    "This step serves to mount GDrive storage within this Jupyter notebook. The command will request us to give access permissions to this notebook, so that we will be able to clone the project repository when we desire. Please follow the prompted instructions."
   ]
  },
  {
   "cell_type": "code",
   "execution_count": null,
   "metadata": {},
   "outputs": [],
   "source": [
    "from google.colab import drive\n",
    "drive.mount('/content/gdrive')"
   ]
  },
  {
   "cell_type": "markdown",
   "metadata": {},
   "source": [
    "We will clone the project repository in our My Drive folder. If you wish to change the target folder, please modify the command below."
   ]
  },
  {
   "cell_type": "code",
   "execution_count": null,
   "metadata": {},
   "outputs": [],
   "source": [
    "%cd /content/gdrive/My Drive/"
   ]
  },
  {
   "cell_type": "markdown",
   "metadata": {},
   "source": [
    "## Clone the Github repository into GDrive\n",
    "\n",
    "If you want to work with the codebase locally in your laptop, you should start to run the following commands."
   ]
  },
  {
   "cell_type": "code",
   "execution_count": null,
   "metadata": {},
   "outputs": [],
   "source": [
    "! git clone https://github.com/biasinrecsys/icdm2020.git"
   ]
  },
  {
   "cell_type": "markdown",
   "metadata": {},
   "source": [
    "We will move to the project folder in order to install the required packages. "
   ]
  },
  {
   "cell_type": "code",
   "execution_count": null,
   "metadata": {},
   "outputs": [],
   "source": [
    "%cd icdm2020"
   ]
  },
  {
   "cell_type": "code",
   "execution_count": null,
   "metadata": {},
   "outputs": [],
   "source": [
    "! ls"
   ]
  },
  {
   "cell_type": "code",
   "execution_count": null,
   "metadata": {},
   "outputs": [],
   "source": [
    "! pip install -r requirements.txt"
   ]
  },
  {
   "cell_type": "markdown",
   "metadata": {},
   "source": [
    "We will configure the notebooks directory as our working directory in order to simulate a local notebook execution. "
   ]
  },
  {
   "cell_type": "code",
   "execution_count": null,
   "metadata": {},
   "outputs": [],
   "source": [
    "%cd ./notebooks"
   ]
  },
  {
   "cell_type": "markdown",
   "metadata": {},
   "source": [
    "## Import Python packages and create the folders for pre-computed results"
   ]
  },
  {
   "cell_type": "code",
   "execution_count": 1,
   "metadata": {},
   "outputs": [],
   "source": [
    "import sys \n",
    "import os\n",
    "\n",
    "sys.path.append(os.path.join('..'))"
   ]
  },
  {
   "cell_type": "code",
   "execution_count": 2,
   "metadata": {},
   "outputs": [],
   "source": [
    "import pandas as pd\n",
    "import numpy as np"
   ]
  },
  {
   "cell_type": "code",
   "execution_count": 3,
   "metadata": {},
   "outputs": [],
   "source": [
    "import matplotlib.pyplot as plt\n",
    "%matplotlib inline"
   ]
  },
  {
   "cell_type": "code",
   "execution_count": 4,
   "metadata": {},
   "outputs": [],
   "source": [
    "from helpers.train_test_splitter import *\n",
    "from models.pointwise import PointWise\n",
    "from models.pairwise import PairWise\n",
    "from models.mostpop import MostPop\n",
    "from models.random import Random\n",
    "from helpers.utils import *"
   ]
  },
  {
   "cell_type": "markdown",
   "metadata": {},
   "source": [
    "We will define the subfolders in **./data** where we will store our pre-computed results. For each dataset:\n",
    "\n",
    "- *data/outputs/splits* will include two csv files including the train and test interactions, according with the selected train-test split rule. \n",
    "- *data/outputs/instances* will include a csv file with instances to be fed to the model, either pairs for point-wise or triplets for pair-wise recommenders.\n",
    "- *data/outputs/models* will include a h5 file associated with a pre-trained recommender model.  \n",
    "- *data/outputs/predictions* will include a numpy file representing a user-item matrix; a cell stores the relevance score of an item for a given user.\n",
    "- *data/outputs/metrics* will include a pickle dictionary with the computed evaluation metrics for a given recommender model. \n",
    "\n",
    "**N.B.** This strategy will allow us to play with the intermediate outputs of the pipeline, without starting from scratch any time (e.g., for performing a bias treatment as a post-processing, we just need to load the predictions of a model to start). "
   ]
  },
  {
   "cell_type": "code",
   "execution_count": 5,
   "metadata": {},
   "outputs": [],
   "source": [
    "data_path = '../data/'"
   ]
  },
  {
   "cell_type": "code",
   "execution_count": null,
   "metadata": {},
   "outputs": [],
   "source": [
    "!mkdir '../data/outputs'\n",
    "!mkdir '../data/outputs/splits'\n",
    "!mkdir '../data/outputs/instances'\n",
    "!mkdir '../data/outputs/models'\n",
    "!mkdir '../data/outputs/predictions'\n",
    "!mkdir '../data/outputs/metrics'"
   ]
  },
  {
   "cell_type": "markdown",
   "metadata": {},
   "source": [
    "## Step 1: Load data"
   ]
  },
  {
   "cell_type": "markdown",
   "metadata": {},
   "source": [
    "First, we will load the **Movielens 1M** dataset, which has been pre-arranged in order to comply with the following structure: user_id, item_id, rating, timestamp, type (label for the item category), and type_id (unique id of the item category). For the sake of tutorial easiness, we assume here that each item is randomly assigned to one of its categories in the original dataset. \n",
    "\n",
    "**N.B.** This toolbox is flexible enough to integrate any other dataset in csv format that has the same structure of the pre-arranged csv shown below. No further changes are then needed to the pipeline in order to experiment with other datasets. The csv file of the new dataset sshould be placed into the *data/datasets/* folder and the name of the file should be assigned to the *dataset* parameter below. "
   ]
  },
  {
   "cell_type": "markdown",
   "metadata": {},
   "source": [
    "##### Input of this step: CSV file including user preferences"
   ]
  },
  {
   "cell_type": "code",
   "execution_count": 6,
   "metadata": {},
   "outputs": [],
   "source": [
    "dataset = 'ml1m'  \n",
    "user_field = 'user_id'\n",
    "item_field = 'item_id'\n",
    "rating_field = 'rating'\n",
    "time_field = 'timestamp'\n",
    "type_field = 'type_id'"
   ]
  },
  {
   "cell_type": "code",
   "execution_count": 7,
   "metadata": {},
   "outputs": [],
   "source": [
    "data = pd.read_csv(os.path.join(data_path, 'datasets/' + dataset + '.csv'), encoding='utf8')"
   ]
  },
  {
   "cell_type": "code",
   "execution_count": 8,
   "metadata": {},
   "outputs": [
    {
     "data": {
      "text/html": [
       "<div>\n",
       "<style scoped>\n",
       "    .dataframe tbody tr th:only-of-type {\n",
       "        vertical-align: middle;\n",
       "    }\n",
       "\n",
       "    .dataframe tbody tr th {\n",
       "        vertical-align: top;\n",
       "    }\n",
       "\n",
       "    .dataframe thead th {\n",
       "        text-align: right;\n",
       "    }\n",
       "</style>\n",
       "<table border=\"1\" class=\"dataframe\">\n",
       "  <thead>\n",
       "    <tr style=\"text-align: right;\">\n",
       "      <th></th>\n",
       "      <th>user_id</th>\n",
       "      <th>item_id</th>\n",
       "      <th>rating</th>\n",
       "      <th>timestamp</th>\n",
       "      <th>type</th>\n",
       "      <th>type_id</th>\n",
       "    </tr>\n",
       "  </thead>\n",
       "  <tbody>\n",
       "    <tr>\n",
       "      <th>630120</th>\n",
       "      <td>3752</td>\n",
       "      <td>319</td>\n",
       "      <td>4.0</td>\n",
       "      <td>2000-08-13 01:03:20</td>\n",
       "      <td>Thriller</td>\n",
       "      <td>15</td>\n",
       "    </tr>\n",
       "    <tr>\n",
       "      <th>229398</th>\n",
       "      <td>2411</td>\n",
       "      <td>39</td>\n",
       "      <td>4.0</td>\n",
       "      <td>2000-11-19 00:38:54</td>\n",
       "      <td>Romance</td>\n",
       "      <td>13</td>\n",
       "    </tr>\n",
       "    <tr>\n",
       "      <th>758377</th>\n",
       "      <td>2172</td>\n",
       "      <td>2915</td>\n",
       "      <td>3.0</td>\n",
       "      <td>2002-03-02 22:18:54</td>\n",
       "      <td>Comedy</td>\n",
       "      <td>4</td>\n",
       "    </tr>\n",
       "    <tr>\n",
       "      <th>159240</th>\n",
       "      <td>2366</td>\n",
       "      <td>349</td>\n",
       "      <td>3.0</td>\n",
       "      <td>2000-11-16 03:11:21</td>\n",
       "      <td>Action</td>\n",
       "      <td>0</td>\n",
       "    </tr>\n",
       "    <tr>\n",
       "      <th>254252</th>\n",
       "      <td>1017</td>\n",
       "      <td>377</td>\n",
       "      <td>4.0</td>\n",
       "      <td>2000-11-23 21:15:04</td>\n",
       "      <td>Thriller</td>\n",
       "      <td>15</td>\n",
       "    </tr>\n",
       "    <tr>\n",
       "      <th>27168</th>\n",
       "      <td>3391</td>\n",
       "      <td>527</td>\n",
       "      <td>5.0</td>\n",
       "      <td>2000-08-29 19:18:26</td>\n",
       "      <td>Drama</td>\n",
       "      <td>7</td>\n",
       "    </tr>\n",
       "    <tr>\n",
       "      <th>196538</th>\n",
       "      <td>2376</td>\n",
       "      <td>1580</td>\n",
       "      <td>4.0</td>\n",
       "      <td>2002-06-19 12:58:43</td>\n",
       "      <td>Comedy</td>\n",
       "      <td>4</td>\n",
       "    </tr>\n",
       "    <tr>\n",
       "      <th>37123</th>\n",
       "      <td>4635</td>\n",
       "      <td>783</td>\n",
       "      <td>3.0</td>\n",
       "      <td>2000-07-19 21:31:53</td>\n",
       "      <td>Musical</td>\n",
       "      <td>11</td>\n",
       "    </tr>\n",
       "    <tr>\n",
       "      <th>982048</th>\n",
       "      <td>868</td>\n",
       "      <td>1346</td>\n",
       "      <td>4.0</td>\n",
       "      <td>2000-11-26 23:13:31</td>\n",
       "      <td>Horror</td>\n",
       "      <td>10</td>\n",
       "    </tr>\n",
       "    <tr>\n",
       "      <th>994502</th>\n",
       "      <td>1880</td>\n",
       "      <td>2275</td>\n",
       "      <td>4.0</td>\n",
       "      <td>2000-11-20 05:37:43</td>\n",
       "      <td>Adventure</td>\n",
       "      <td>1</td>\n",
       "    </tr>\n",
       "  </tbody>\n",
       "</table>\n",
       "</div>"
      ],
      "text/plain": [
       "        user_id  item_id  rating            timestamp       type  type_id\n",
       "630120     3752      319     4.0  2000-08-13 01:03:20   Thriller       15\n",
       "229398     2411       39     4.0  2000-11-19 00:38:54    Romance       13\n",
       "758377     2172     2915     3.0  2002-03-02 22:18:54     Comedy        4\n",
       "159240     2366      349     3.0  2000-11-16 03:11:21     Action        0\n",
       "254252     1017      377     4.0  2000-11-23 21:15:04   Thriller       15\n",
       "27168      3391      527     5.0  2000-08-29 19:18:26      Drama        7\n",
       "196538     2376     1580     4.0  2002-06-19 12:58:43     Comedy        4\n",
       "37123      4635      783     3.0  2000-07-19 21:31:53    Musical       11\n",
       "982048      868     1346     4.0  2000-11-26 23:13:31     Horror       10\n",
       "994502     1880     2275     4.0  2000-11-20 05:37:43  Adventure        1"
      ]
     },
     "execution_count": 8,
     "metadata": {},
     "output_type": "execute_result"
    }
   ],
   "source": [
    "data.sample(n=10, random_state=1)"
   ]
  },
  {
   "cell_type": "markdown",
   "metadata": {},
   "source": [
    "##### Exercise in brief: find the id of the most popular item (i.e, the item that has received the highest number of ratings).  "
   ]
  },
  {
   "cell_type": "code",
   "execution_count": 9,
   "metadata": {},
   "outputs": [
    {
     "data": {
      "text/plain": [
       "2858"
      ]
     },
     "execution_count": 9,
     "metadata": {},
     "output_type": "execute_result"
    }
   ],
   "source": [
    "# Please, add your solution here\n",
    "data.groupby(by=['item_id']).size().sort_values(ascending=False).index[0]"
   ]
  },
  {
   "cell_type": "markdown",
   "metadata": {},
   "source": [
    "During this tutorial, we will simulate a scenario with **implicit feedback**. We assume that a user is interested in an item, if that item was rated by the user, no matter of the rating value. Other strategies can be easily integrated. \n",
    "\n",
    "**N.B.** Other papers in the literature assumed that an item is relevant for a user, only if the user has given a rating higher than a value X. To implement this strategy here, you just need to change the body of the lambda function below. "
   ]
  },
  {
   "cell_type": "code",
   "execution_count": 10,
   "metadata": {},
   "outputs": [],
   "source": [
    "data[rating_field] = data[rating_field].apply(lambda x: 1.0)"
   ]
  },
  {
   "cell_type": "markdown",
   "metadata": {},
   "source": [
    "#####  Output of this step: Dataframe / CSV file including pre-processed user preferences "
   ]
  },
  {
   "cell_type": "code",
   "execution_count": 11,
   "metadata": {},
   "outputs": [
    {
     "data": {
      "text/html": [
       "<div>\n",
       "<style scoped>\n",
       "    .dataframe tbody tr th:only-of-type {\n",
       "        vertical-align: middle;\n",
       "    }\n",
       "\n",
       "    .dataframe tbody tr th {\n",
       "        vertical-align: top;\n",
       "    }\n",
       "\n",
       "    .dataframe thead th {\n",
       "        text-align: right;\n",
       "    }\n",
       "</style>\n",
       "<table border=\"1\" class=\"dataframe\">\n",
       "  <thead>\n",
       "    <tr style=\"text-align: right;\">\n",
       "      <th></th>\n",
       "      <th>user_id</th>\n",
       "      <th>item_id</th>\n",
       "      <th>rating</th>\n",
       "      <th>timestamp</th>\n",
       "      <th>type</th>\n",
       "      <th>type_id</th>\n",
       "    </tr>\n",
       "  </thead>\n",
       "  <tbody>\n",
       "    <tr>\n",
       "      <th>630120</th>\n",
       "      <td>3752</td>\n",
       "      <td>319</td>\n",
       "      <td>1.0</td>\n",
       "      <td>2000-08-13 01:03:20</td>\n",
       "      <td>Thriller</td>\n",
       "      <td>15</td>\n",
       "    </tr>\n",
       "    <tr>\n",
       "      <th>229398</th>\n",
       "      <td>2411</td>\n",
       "      <td>39</td>\n",
       "      <td>1.0</td>\n",
       "      <td>2000-11-19 00:38:54</td>\n",
       "      <td>Romance</td>\n",
       "      <td>13</td>\n",
       "    </tr>\n",
       "    <tr>\n",
       "      <th>758377</th>\n",
       "      <td>2172</td>\n",
       "      <td>2915</td>\n",
       "      <td>1.0</td>\n",
       "      <td>2002-03-02 22:18:54</td>\n",
       "      <td>Comedy</td>\n",
       "      <td>4</td>\n",
       "    </tr>\n",
       "    <tr>\n",
       "      <th>159240</th>\n",
       "      <td>2366</td>\n",
       "      <td>349</td>\n",
       "      <td>1.0</td>\n",
       "      <td>2000-11-16 03:11:21</td>\n",
       "      <td>Action</td>\n",
       "      <td>0</td>\n",
       "    </tr>\n",
       "    <tr>\n",
       "      <th>254252</th>\n",
       "      <td>1017</td>\n",
       "      <td>377</td>\n",
       "      <td>1.0</td>\n",
       "      <td>2000-11-23 21:15:04</td>\n",
       "      <td>Thriller</td>\n",
       "      <td>15</td>\n",
       "    </tr>\n",
       "    <tr>\n",
       "      <th>27168</th>\n",
       "      <td>3391</td>\n",
       "      <td>527</td>\n",
       "      <td>1.0</td>\n",
       "      <td>2000-08-29 19:18:26</td>\n",
       "      <td>Drama</td>\n",
       "      <td>7</td>\n",
       "    </tr>\n",
       "    <tr>\n",
       "      <th>196538</th>\n",
       "      <td>2376</td>\n",
       "      <td>1580</td>\n",
       "      <td>1.0</td>\n",
       "      <td>2002-06-19 12:58:43</td>\n",
       "      <td>Comedy</td>\n",
       "      <td>4</td>\n",
       "    </tr>\n",
       "    <tr>\n",
       "      <th>37123</th>\n",
       "      <td>4635</td>\n",
       "      <td>783</td>\n",
       "      <td>1.0</td>\n",
       "      <td>2000-07-19 21:31:53</td>\n",
       "      <td>Musical</td>\n",
       "      <td>11</td>\n",
       "    </tr>\n",
       "    <tr>\n",
       "      <th>982048</th>\n",
       "      <td>868</td>\n",
       "      <td>1346</td>\n",
       "      <td>1.0</td>\n",
       "      <td>2000-11-26 23:13:31</td>\n",
       "      <td>Horror</td>\n",
       "      <td>10</td>\n",
       "    </tr>\n",
       "    <tr>\n",
       "      <th>994502</th>\n",
       "      <td>1880</td>\n",
       "      <td>2275</td>\n",
       "      <td>1.0</td>\n",
       "      <td>2000-11-20 05:37:43</td>\n",
       "      <td>Adventure</td>\n",
       "      <td>1</td>\n",
       "    </tr>\n",
       "  </tbody>\n",
       "</table>\n",
       "</div>"
      ],
      "text/plain": [
       "        user_id  item_id  rating            timestamp       type  type_id\n",
       "630120     3752      319     1.0  2000-08-13 01:03:20   Thriller       15\n",
       "229398     2411       39     1.0  2000-11-19 00:38:54    Romance       13\n",
       "758377     2172     2915     1.0  2002-03-02 22:18:54     Comedy        4\n",
       "159240     2366      349     1.0  2000-11-16 03:11:21     Action        0\n",
       "254252     1017      377     1.0  2000-11-23 21:15:04   Thriller       15\n",
       "27168      3391      527     1.0  2000-08-29 19:18:26      Drama        7\n",
       "196538     2376     1580     1.0  2002-06-19 12:58:43     Comedy        4\n",
       "37123      4635      783     1.0  2000-07-19 21:31:53    Musical       11\n",
       "982048      868     1346     1.0  2000-11-26 23:13:31     Horror       10\n",
       "994502     1880     2275     1.0  2000-11-20 05:37:43  Adventure        1"
      ]
     },
     "execution_count": 11,
     "metadata": {},
     "output_type": "execute_result"
    }
   ],
   "source": [
    "data.sample(n=10, random_state=1)"
   ]
  },
  {
   "cell_type": "markdown",
   "metadata": {},
   "source": [
    "## Step 2: Split data in training and test sets\n",
    "\n",
    "Once the original dataset has been loaded and the user preferences have been pre-processed, we need to split the whole dataset in two sets: a training set used for optimizing the recommender model and a test set used for evaluating the recommender model. In the literature, a wide range of train-test split strategy exists. This notebook will use a strategy that, for each user, puts the oldest interactions in the training set and the most recent interactions in the test set. The Python toolbox includes also other strategies, such as a random split or a split based on a fixed timestamp (i.e., the most realistic one).  "
   ]
  },
  {
   "cell_type": "markdown",
   "metadata": {},
   "source": [
    "#####  Input of this step: Dataframe / CSV file including pre-processed user preferences. "
   ]
  },
  {
   "cell_type": "markdown",
   "metadata": {},
   "source": [
    "- **smode**: 'uftime' for fixed timestamp split, 'utime' for time-based split per user, 'urandom' for random split per user \n",
    "- **train_ratio**: percentage of data to be included in the train set\n",
    "- **min_train**: minimum number of train samples for a user to be included  \n",
    "- **min_test**: minimum number of test samples for a user to be included\n",
    "- **min_time**: start timestamp for computing the splitting timestamp (only for uftime)\n",
    "- **max_time**: end timestamp for computing the splitting timestamp (only for uftime)\n",
    "- **step_time**: timestamp step for computing the splitting timestamp (only for uftime)"
   ]
  },
  {
   "cell_type": "code",
   "execution_count": 12,
   "metadata": {},
   "outputs": [],
   "source": [
    "smode = 'utime'\n",
    "train_ratio = 0.80        \n",
    "min_train_samples = 8\n",
    "min_test_samples = 2\n",
    "min_time = None\n",
    "max_time = None\n",
    "step_time = 1000"
   ]
  },
  {
   "cell_type": "markdown",
   "metadata": {},
   "source": [
    "During this tutorial, we will work with a common **time-based split per user**. For the sake of clarity, we will provide the implementation of this strategy below. The toolbox conserves all the train-test split strategies into the file *helpers/train_test_splitter.py*.  "
   ]
  },
  {
   "cell_type": "code",
   "execution_count": 13,
   "metadata": {},
   "outputs": [],
   "source": [
    "def user_timestamp(interactions,split=0.80,min_samples=10,user_field='user_id',item_field='item_id',time_field='timestamp'):\n",
    "    train_set = []\n",
    "    test_set = []\n",
    "    \n",
    "    groups = interactions.groupby([user_field])\n",
    "    for i, (index, group) in enumerate(groups):\n",
    "        \n",
    "        if i % 1000 == 0:\n",
    "            print('\\r> Parsing user', i+1, 'of', len(groups), end='')\n",
    "        \n",
    "        if len(group.index) < min_samples:\n",
    "            continue\n",
    "        \n",
    "        sorted_group = group.sort_values(time_field)\n",
    "        n_rating_test = int(len(sorted_group.index) * (1.0 - split))\n",
    "        train_set.append(sorted_group.head(len(sorted_group.index) - n_rating_test))\n",
    "        test_set.append(sorted_group.tail(n_rating_test))\n",
    "    \n",
    "    print('\\r> Parsing user', i+1, 'of', len(groups))\n",
    "\n",
    "    train, test = pd.concat(train_set), pd.concat(test_set)\n",
    "    train['set'], test['set'] = 'train', 'test' # Ensure that each row has a column that identifies the associated set\n",
    "\n",
    "    traintest = pd.concat([train, test])\n",
    "    traintest[user_field + '_original'] = traintest[user_field] # Ensure that we save the original user ids\n",
    "    traintest[item_field + '_original'] = traintest[item_field] # Ensure that we save the original item ids\n",
    "    traintest[user_field] = traintest[user_field].astype('category').cat.codes # Ensure that user ids are in [0, |U|] \n",
    "    traintest[item_field] = traintest[item_field].astype('category').cat.codes # Ensure that item ids are in [0, |I|] \n",
    "\n",
    "    return traintest"
   ]
  },
  {
   "cell_type": "markdown",
   "metadata": {},
   "source": [
    "This notebook can be easily run with any of the different train-test split strategies, through the following code. "
   ]
  },
  {
   "cell_type": "code",
   "execution_count": 14,
   "metadata": {},
   "outputs": [
    {
     "name": "stdout",
     "output_type": "stream",
     "text": [
      "> Parsing user 6040 of 6040\n"
     ]
    }
   ],
   "source": [
    "if smode == 'uftime':\n",
    "    traintest = fixed_timestamp(data, min_train_samples, min_test_samples, min_time, max_time, step_time, user_field, item_field, time_field, rating_field)\n",
    "elif smode == 'utime':\n",
    "    traintest = user_timestamp(data, train_ratio, min_train_samples+min_test_samples, user_field, item_field, time_field)\n",
    "elif smode == 'urandom':\n",
    "    traintest = user_random(data, train_ratio, min_train_samples+min_test_samples, user_field, item_field)"
   ]
  },
  {
   "cell_type": "markdown",
   "metadata": {},
   "source": [
    "**N.B.** For the sake of convenience, *user_ids* and *item_ids* have been scaled so that user_ids are in *[0, |U|]* and item_ids are in *[0, |I|]*. To refer back to the original user and item ids, the *user_id_original* and *item_id_original* columns should be used. "
   ]
  },
  {
   "cell_type": "markdown",
   "metadata": {},
   "source": [
    "For the sake of replicability and efficiency of this tutorial, we will save the pre-computed train and test sets in *data/outputs/splits*."
   ]
  },
  {
   "cell_type": "code",
   "execution_count": 15,
   "metadata": {},
   "outputs": [],
   "source": [
    "traintest.to_csv(os.path.join(data_path, 'outputs/splits/' + dataset + '_' + smode + '.csv'))"
   ]
  },
  {
   "cell_type": "markdown",
   "metadata": {},
   "source": [
    "#####  Output of this step: Dataframe / CSV file with interactions assigned to training and test sets"
   ]
  },
  {
   "cell_type": "code",
   "execution_count": 16,
   "metadata": {},
   "outputs": [
    {
     "data": {
      "text/html": [
       "<div>\n",
       "<style scoped>\n",
       "    .dataframe tbody tr th:only-of-type {\n",
       "        vertical-align: middle;\n",
       "    }\n",
       "\n",
       "    .dataframe tbody tr th {\n",
       "        vertical-align: top;\n",
       "    }\n",
       "\n",
       "    .dataframe thead th {\n",
       "        text-align: right;\n",
       "    }\n",
       "</style>\n",
       "<table border=\"1\" class=\"dataframe\">\n",
       "  <thead>\n",
       "    <tr style=\"text-align: right;\">\n",
       "      <th></th>\n",
       "      <th>user_id</th>\n",
       "      <th>item_id</th>\n",
       "      <th>rating</th>\n",
       "      <th>timestamp</th>\n",
       "      <th>type</th>\n",
       "      <th>type_id</th>\n",
       "      <th>set</th>\n",
       "      <th>user_id_original</th>\n",
       "      <th>item_id_original</th>\n",
       "    </tr>\n",
       "  </thead>\n",
       "  <tbody>\n",
       "    <tr>\n",
       "      <th>461252</th>\n",
       "      <td>4681</td>\n",
       "      <td>1980</td>\n",
       "      <td>1.0</td>\n",
       "      <td>2000-08-06 02:31:13</td>\n",
       "      <td>Adventure</td>\n",
       "      <td>1</td>\n",
       "      <td>train</td>\n",
       "      <td>4682</td>\n",
       "      <td>2161</td>\n",
       "    </tr>\n",
       "    <tr>\n",
       "      <th>432180</th>\n",
       "      <td>1700</td>\n",
       "      <td>2303</td>\n",
       "      <td>1.0</td>\n",
       "      <td>2001-12-30 08:15:18</td>\n",
       "      <td>Romance</td>\n",
       "      <td>13</td>\n",
       "      <td>train</td>\n",
       "      <td>1701</td>\n",
       "      <td>2497</td>\n",
       "    </tr>\n",
       "    <tr>\n",
       "      <th>396031</th>\n",
       "      <td>5688</td>\n",
       "      <td>759</td>\n",
       "      <td>1.0</td>\n",
       "      <td>2000-06-26 05:01:36</td>\n",
       "      <td>Drama</td>\n",
       "      <td>7</td>\n",
       "      <td>train</td>\n",
       "      <td>5689</td>\n",
       "      <td>805</td>\n",
       "    </tr>\n",
       "    <tr>\n",
       "      <th>692829</th>\n",
       "      <td>1217</td>\n",
       "      <td>1611</td>\n",
       "      <td>1.0</td>\n",
       "      <td>2000-12-01 18:23:13</td>\n",
       "      <td>Comedy</td>\n",
       "      <td>4</td>\n",
       "      <td>train</td>\n",
       "      <td>1218</td>\n",
       "      <td>1772</td>\n",
       "    </tr>\n",
       "    <tr>\n",
       "      <th>333979</th>\n",
       "      <td>1882</td>\n",
       "      <td>2597</td>\n",
       "      <td>1.0</td>\n",
       "      <td>2000-11-22 07:57:02</td>\n",
       "      <td>Action</td>\n",
       "      <td>0</td>\n",
       "      <td>train</td>\n",
       "      <td>1883</td>\n",
       "      <td>2802</td>\n",
       "    </tr>\n",
       "    <tr>\n",
       "      <th>524446</th>\n",
       "      <td>226</td>\n",
       "      <td>2958</td>\n",
       "      <td>1.0</td>\n",
       "      <td>2000-12-14 22:41:09</td>\n",
       "      <td>Adventure</td>\n",
       "      <td>1</td>\n",
       "      <td>train</td>\n",
       "      <td>227</td>\n",
       "      <td>3175</td>\n",
       "    </tr>\n",
       "    <tr>\n",
       "      <th>52926</th>\n",
       "      <td>1472</td>\n",
       "      <td>1848</td>\n",
       "      <td>1.0</td>\n",
       "      <td>2000-11-20 21:38:38</td>\n",
       "      <td>Action</td>\n",
       "      <td>0</td>\n",
       "      <td>train</td>\n",
       "      <td>1473</td>\n",
       "      <td>2028</td>\n",
       "    </tr>\n",
       "    <tr>\n",
       "      <th>895248</th>\n",
       "      <td>307</td>\n",
       "      <td>313</td>\n",
       "      <td>1.0</td>\n",
       "      <td>2001-07-22 22:58:50</td>\n",
       "      <td>Drama</td>\n",
       "      <td>7</td>\n",
       "      <td>train</td>\n",
       "      <td>308</td>\n",
       "      <td>322</td>\n",
       "    </tr>\n",
       "    <tr>\n",
       "      <th>285473</th>\n",
       "      <td>5491</td>\n",
       "      <td>2748</td>\n",
       "      <td>1.0</td>\n",
       "      <td>2001-08-07 19:22:33</td>\n",
       "      <td>Drama</td>\n",
       "      <td>7</td>\n",
       "      <td>test</td>\n",
       "      <td>5492</td>\n",
       "      <td>2959</td>\n",
       "    </tr>\n",
       "    <tr>\n",
       "      <th>94374</th>\n",
       "      <td>5851</td>\n",
       "      <td>3031</td>\n",
       "      <td>1.0</td>\n",
       "      <td>2000-05-12 05:35:27</td>\n",
       "      <td>Comedy</td>\n",
       "      <td>4</td>\n",
       "      <td>test</td>\n",
       "      <td>5852</td>\n",
       "      <td>3255</td>\n",
       "    </tr>\n",
       "  </tbody>\n",
       "</table>\n",
       "</div>"
      ],
      "text/plain": [
       "        user_id  item_id  rating            timestamp       type  type_id  \\\n",
       "461252     4681     1980     1.0  2000-08-06 02:31:13  Adventure        1   \n",
       "432180     1700     2303     1.0  2001-12-30 08:15:18    Romance       13   \n",
       "396031     5688      759     1.0  2000-06-26 05:01:36      Drama        7   \n",
       "692829     1217     1611     1.0  2000-12-01 18:23:13     Comedy        4   \n",
       "333979     1882     2597     1.0  2000-11-22 07:57:02     Action        0   \n",
       "524446      226     2958     1.0  2000-12-14 22:41:09  Adventure        1   \n",
       "52926      1472     1848     1.0  2000-11-20 21:38:38     Action        0   \n",
       "895248      307      313     1.0  2001-07-22 22:58:50      Drama        7   \n",
       "285473     5491     2748     1.0  2001-08-07 19:22:33      Drama        7   \n",
       "94374      5851     3031     1.0  2000-05-12 05:35:27     Comedy        4   \n",
       "\n",
       "          set  user_id_original  item_id_original  \n",
       "461252  train              4682              2161  \n",
       "432180  train              1701              2497  \n",
       "396031  train              5689               805  \n",
       "692829  train              1218              1772  \n",
       "333979  train              1883              2802  \n",
       "524446  train               227              3175  \n",
       "52926   train              1473              2028  \n",
       "895248  train               308               322  \n",
       "285473   test              5492              2959  \n",
       "94374    test              5852              3255  "
      ]
     },
     "execution_count": 16,
     "metadata": {},
     "output_type": "execute_result"
    }
   ],
   "source": [
    "traintest.sample(n=10, random_state=1)"
   ]
  },
  {
   "cell_type": "markdown",
   "metadata": {},
   "source": [
    "## Step 3: Train the recommender model"
   ]
  },
  {
   "cell_type": "markdown",
   "metadata": {},
   "source": [
    "#####  Input of this step: Dataframe / CSV file with interactions assigned to training and test sets"
   ]
  },
  {
   "cell_type": "code",
   "execution_count": 17,
   "metadata": {},
   "outputs": [],
   "source": [
    "train = traintest[traintest['set']=='train'].copy()\n",
    "test = traintest[traintest['set']=='test'].copy()"
   ]
  },
  {
   "cell_type": "markdown",
   "metadata": {},
   "source": [
    "##### Exercise in brief: plot the distribution of interactions per item in the training set and in the test set, separately.    "
   ]
  },
  {
   "cell_type": "code",
   "execution_count": 19,
   "metadata": {},
   "outputs": [
    {
     "data": {
      "image/png": "[encoded data removed]",
      "text/plain": [
       "<Figure size 1440x360 with 2 Axes>"
      ]
     },
     "metadata": {
      "needs_background": "light"
     },
     "output_type": "display_data"
    }
   ],
   "source": [
    "# Please, add your solution here\n",
    "train_distr = train.groupby(by='item_id').size().sort_values(ascending=False)\n",
    "test_distr = test.groupby(by='item_id').size().sort_values(ascending=False)\n",
    "y_max = int(max(train_distr.max(), test_distr.max()) / 100) * 100\n",
    "\n",
    "plt.figure(figsize=(20, 5))\n",
    "\n",
    "plt.subplot(1,2,1)\n",
    "plt.title('Popularity distribution in the training set')\n",
    "plt.plot(range(len(train_distr)), train_distr)\n",
    "plt.ylim([0, y_max])\n",
    "plt.xlim([0, len(data['item_id'].unique())])\n",
    "plt.ylabel('Number of ratings')\n",
    "plt.xlabel('Ranking of items based on their popularity')\n",
    "\n",
    "plt.subplot(1,2,2)\n",
    "plt.title('Popularity distribution in the test set')\n",
    "plt.plot(range(len(test_distr)), test_distr)\n",
    "plt.ylim([0, y_max])\n",
    "plt.xlim([0, len(data['item_id'].unique())])\n",
    "plt.ylabel('Number of ratings')\n",
    "plt.xlabel('Ranking of items based on their popularity')\n",
    "\n",
    "plt.savefig('train_test_pop_distr.png')\n",
    "plt.show()"
   ]
  },
  {
   "cell_type": "markdown",
   "metadata": {},
   "source": [
    "First, we show some statistics about the training and test sets, e.g., number of users and items. "
   ]
  },
  {
   "cell_type": "code",
   "execution_count": 20,
   "metadata": {},
   "outputs": [],
   "source": [
    "users = list(np.unique(traintest[user_field].values))\n",
    "items = list(np.unique(traintest[item_field].values))"
   ]
  },
  {
   "cell_type": "code",
   "execution_count": 21,
   "metadata": {},
   "outputs": [
    {
     "data": {
      "text/plain": [
       "(6040, 3706)"
      ]
     },
     "execution_count": 21,
     "metadata": {},
     "output_type": "execute_result"
    }
   ],
   "source": [
    "len(users), len(items)"
   ]
  },
  {
   "cell_type": "markdown",
   "metadata": {},
   "source": [
    "Given that some recommender models may require the category of an item, we create a vector of size *|I|* including the integer-encoded category of the item with id *X* at position *X* of the vector. "
   ]
  },
  {
   "cell_type": "code",
   "execution_count": 22,
   "metadata": {},
   "outputs": [],
   "source": [
    "category_per_item = traintest.drop_duplicates(subset=['item_id'], keep='first')[type_field].values"
   ]
  },
  {
   "cell_type": "code",
   "execution_count": 23,
   "metadata": {},
   "outputs": [
    {
     "data": {
      "text/plain": [
       "18"
      ]
     },
     "execution_count": 23,
     "metadata": {},
     "output_type": "execute_result"
    }
   ],
   "source": [
    "len(np.unique(category_per_item))"
   ]
  },
  {
   "cell_type": "markdown",
   "metadata": {},
   "source": [
    "For the sake of easiness and time, this tutorial focuses on four main recommendation strategies: \n",
    "- *Random*: randomly recommending a list of items to a user. \n",
    "- *MostPop*: recommending the same most popular items (i.e, those which received the highest number of ratings) to all users.\n",
    "- *PointWise*: given a user-item pair, it is optimized for predicting a higher score (1) when the current item has been rated by the user, and a lower score (0) otherwise. The training instances include a good reprsentation of both types of pairs.   \n",
    "- *PairWise*: given a triplet with a user, an observed item, and an unobserved item, it is optimized for predicting a higher relevance for the pair of user and unobserved item rather than for the pair of user and unobserved item. \n",
    "\n",
    "Each model inherits from the Model class defined in *models/model.py* and extends it by overwriting the *train* and *predict* functions of the original model class. This allows us to minimize the reuse of the code. More details on the implementation of the pairwise recommender can be found into *models/pairwise.py*.  "
   ]
  },
  {
   "cell_type": "code",
   "execution_count": 24,
   "metadata": {},
   "outputs": [],
   "source": [
    "model_types = {'random': Random, 'mostpop': MostPop, 'pointwise': PointWise, 'pairwise': PairWise}"
   ]
  },
  {
   "cell_type": "markdown",
   "metadata": {},
   "source": [
    "First, we need to initialize the model. We will see how the process works for a PairWise algorithm. Then, we will consider the other ones. "
   ]
  },
  {
   "cell_type": "code",
   "execution_count": 25,
   "metadata": {},
   "outputs": [
    {
     "name": "stdout",
     "output_type": "stream",
     "text": [
      "Initializing user, item, and categories lists\n",
      "Initializing observed, unobserved, and predicted relevance scores\n",
      "Initializing item popularity lists\n",
      "Initializing category per item\n",
      "Initializing category preference per user\n",
      "Initializing metrics\n",
      "Wall time: 12.1 s\n"
     ]
    }
   ],
   "source": [
    "model_type = 'pairwise'\n",
    "%time model = PairWise(users, items, train, test, category_per_item, item_field, user_field, rating_field)"
   ]
  },
  {
   "cell_type": "markdown",
   "metadata": {},
   "source": [
    "We will train the model by feeding the train data we previously prepared, using the following default parameters. \n",
    "\n",
    "- *no_epochs* (default 100): maximum number of epochs until which the training process will be run. \n",
    "- *batches* (default 1024): size of the batches fed into the model during training. \n",
    "- *lr* (default 0.001): learning rate defining the pace at which the model will be trained. \n",
    "- *no_factors* (default 10): size of the latent vectors associated to users and items. \n",
    "- *no_negatives* (default 10): number of triplets for each user-item pair included in the training set. \n",
    "- *val_split* (default 0.0001): proportion of the training set used for validation. \n",
    "\n",
    "**N.B.** For the sake of tutorial efficiency, we force to stop the training process after 5 epochs (i.e., reasonable trade-off). No grid search on the recommender model is performed at this stage. "
   ]
  },
  {
   "cell_type": "code",
   "execution_count": 26,
   "metadata": {},
   "outputs": [
    {
     "name": "stdout",
     "output_type": "stream",
     "text": [
      "Generating training instances of type pair\n",
      "Created training instances randomly\n",
      "Computing instances for interaction 800000 / 803798 of type pair\n",
      "Performing training - Epochs 5 Batch Size 1024 Learning Rate 0.001 Factors 10 Negatives 10 Mode pair\n",
      "Train on 7957600 samples\n",
      "7957600/7957600 [==============================] - 60s 8us/sample - loss: 0.1912 - acc_loss: 0.1912 - corr_loss: 0.3082\n",
      "Validation accuracy: 0.8611594924110475 (Sample 80379 of 80380)\n",
      "Train on 7957600 samples\n",
      "Epoch 2/2\n",
      "7957600/7957600 [==============================] - 54s 7us/sample - loss: 0.1321 - acc_loss: 0.1321 - corr_loss: 0.3434\n",
      "Train on 7957600 samples\n",
      "Epoch 3/3\n",
      "7957600/7957600 [==============================] - 47s 6us/sample - loss: 0.1114 - acc_loss: 0.1114 - corr_loss: 0.3069\n",
      "Train on 7957600 samples\n",
      "Epoch 4/4\n",
      "7957600/7957600 [==============================] - 43s 5us/sample - loss: 0.0982 - acc_loss: 0.0982 - corr_loss: 0.2660\n",
      "Train on 7957600 samples\n",
      "Epoch 5/5\n",
      "7957600/7957600 [==============================] - 39s 5us/sample - loss: 0.0892 - acc_loss: 0.0892 - corr_loss: 0.2304\n",
      "Validation accuracy: 0.9168325454093058 (Sample 80379 of 80380)\n",
      "Wall time: 6min 36s\n"
     ]
    }
   ],
   "source": [
    "%time model.train(no_epochs=5) "
   ]
  },
  {
   "cell_type": "markdown",
   "metadata": {},
   "source": [
    "The architecture of the trained model looks as follows. Essentially, the model includes:\n",
    "- *UserEmb* encoding a latent vector for each user.\n",
    "- *ItemEmb* encoding a latent vector for each item.\n",
    "- *FlatUserEmb* represents the vector associated with the current user *UserInput*.\n",
    "- *FlatPosItemEmb* represents the vectors associated with the current observed item *PosItemInput*.\n",
    "- *FlatNegItemEmb* represents the vectors associated with the current unobserved item *NegItemInput*.\n",
    "- *Accuracy* computes the margin between (i) the *FlatUserEmb-FlatPosItemEmb* and (ii) the *FlatUserEmb-FlatNegItemEmb* similarity scores.  "
   ]
  },
  {
   "cell_type": "code",
   "execution_count": 27,
   "metadata": {},
   "outputs": [
    {
     "name": "stdout",
     "output_type": "stream",
     "text": [
      "Model: \"model\"\n",
      "__________________________________________________________________________________________________\n",
      "Layer (type)                    Output Shape         Param #     Connected to                     \n",
      "==================================================================================================\n",
      "UserInput (InputLayer)          [(None, 1)]          0                                            \n",
      "__________________________________________________________________________________________________\n",
      "PosItemInput (InputLayer)       [(None, 1)]          0                                            \n",
      "__________________________________________________________________________________________________\n",
      "NegItemInput (InputLayer)       [(None, 1)]          0                                            \n",
      "__________________________________________________________________________________________________\n",
      "UserEmb (Embedding)             (None, 1, 10)        60410       UserInput[0][0]                  \n",
      "__________________________________________________________________________________________________\n",
      "ItemEmb (Embedding)             (None, 1, 10)        37070       PosItemInput[0][0]               \n",
      "                                                                 NegItemInput[0][0]               \n",
      "__________________________________________________________________________________________________\n",
      "FlatUserEmb (Flatten)           (None, 10)           0           UserEmb[0][0]                    \n",
      "__________________________________________________________________________________________________\n",
      "FlatPosItemEmb (Flatten)        (None, 10)           0           ItemEmb[0][0]                    \n",
      "__________________________________________________________________________________________________\n",
      "FlatNegItemEmb (Flatten)        (None, 10)           0           ItemEmb[1][0]                    \n",
      "__________________________________________________________________________________________________\n",
      "acc (Lambda)                    (None, 1)            0           FlatUserEmb[0][0]                \n",
      "                                                                 FlatPosItemEmb[0][0]             \n",
      "                                                                 FlatNegItemEmb[0][0]             \n",
      "__________________________________________________________________________________________________\n",
      "corr (Lambda)                   (None, 1)            0           FlatUserEmb[0][0]                \n",
      "                                                                 FlatPosItemEmb[0][0]             \n",
      "                                                                 FlatNegItemEmb[0][0]             \n",
      "==================================================================================================\n",
      "Total params: 97,480\n",
      "Trainable params: 97,480\n",
      "Non-trainable params: 0\n",
      "__________________________________________________________________________________________________\n"
     ]
    }
   ],
   "source": [
    "model.print()"
   ]
  },
  {
   "cell_type": "markdown",
   "metadata": {},
   "source": [
    "#####  Output of this step: H5 TensorFlow model pre-trained with the interactions in the training set\n",
    "\n",
    "The model file is saved in *data/outputs/models*. "
   ]
  },
  {
   "cell_type": "code",
   "execution_count": 28,
   "metadata": {},
   "outputs": [
    {
     "data": {
      "text/plain": [
       "<models.pairwise.PairWise at 0x2279832cb38>"
      ]
     },
     "execution_count": 28,
     "metadata": {},
     "output_type": "execute_result"
    }
   ],
   "source": [
    "model"
   ]
  },
  {
   "cell_type": "markdown",
   "metadata": {},
   "source": [
    "## Step 4: Compute user-item relevance scores\n",
    "\n",
    "Once the recommender model has been trained, we leverage the pre-trained user and item Embedding matrices in order to compute the relevance score predicted for each unseen user-item pair. For all the user-item pairs, the prediction step requires to extract the user and item vector associated to the current user-item pair and, then, compute the similarity between the two - cosine or dot similarity are usually used at this stage.  "
   ]
  },
  {
   "cell_type": "markdown",
   "metadata": {},
   "source": [
    "#####  Input of this stage: H5 Tensorflow model pre-trained with the interactions in the training set"
   ]
  },
  {
   "cell_type": "code",
   "execution_count": 29,
   "metadata": {},
   "outputs": [
    {
     "data": {
      "text/plain": [
       "<models.pairwise.PairWise at 0x2279832cb38>"
      ]
     },
     "execution_count": 29,
     "metadata": {},
     "output_type": "execute_result"
    }
   ],
   "source": [
    "model"
   ]
  },
  {
   "cell_type": "markdown",
   "metadata": {},
   "source": [
    "Now, we will use the pre-trained model to predict the user-item relevance scores."
   ]
  },
  {
   "cell_type": "code",
   "execution_count": 30,
   "metadata": {},
   "outputs": [
    {
     "name": "stdout",
     "output_type": "stream",
     "text": [
      "Computing predictions\n"
     ]
    }
   ],
   "source": [
    "model.predict()"
   ]
  },
  {
   "cell_type": "markdown",
   "metadata": {},
   "source": [
    "For the sake of easiness, you could directly manipulate the user-item relevance matrix as a numpy array. "
   ]
  },
  {
   "cell_type": "code",
   "execution_count": 31,
   "metadata": {},
   "outputs": [],
   "source": [
    "scores = model.get_predictions()"
   ]
  },
  {
   "cell_type": "markdown",
   "metadata": {},
   "source": [
    "Hence, we can access to the relevance score of the user *120* for the item *320* as follows. "
   ]
  },
  {
   "cell_type": "code",
   "execution_count": 32,
   "metadata": {},
   "outputs": [
    {
     "data": {
      "text/plain": [
       "3.735388994216919"
      ]
     },
     "execution_count": 32,
     "metadata": {},
     "output_type": "execute_result"
    }
   ],
   "source": [
    "user_id, item_id = 120, 320\n",
    "scores[user_id, item_id]"
   ]
  },
  {
   "cell_type": "markdown",
   "metadata": {},
   "source": [
    "##### Exercise in brief: compute the range of the scores on the whole population of users.     "
   ]
  },
  {
   "cell_type": "code",
   "execution_count": 33,
   "metadata": {},
   "outputs": [
    {
     "data": {
      "text/plain": [
       "(-32.77223587036133, 40.23173141479492)"
      ]
     },
     "execution_count": 33,
     "metadata": {},
     "output_type": "execute_result"
    }
   ],
   "source": [
    "# Please, add your solution here\n",
    "scores.min(), scores.max()"
   ]
  },
  {
   "cell_type": "markdown",
   "metadata": {},
   "source": [
    "For the sake of convenience, we will save the predicted scores. They are often used as an input for re-ranking treatments against bias. "
   ]
  },
  {
   "cell_type": "code",
   "execution_count": 34,
   "metadata": {},
   "outputs": [],
   "source": [
    "save_obj(scores, os.path.join(data_path, 'outputs/predictions/' + dataset + '_' + smode + '_' + model_type + '_scores.pkl'))"
   ]
  },
  {
   "cell_type": "markdown",
   "metadata": {},
   "source": [
    "##### Exercise in brief: retrieve the ids of the 10 items having the highest relevance score for the user with id 47.   "
   ]
  },
  {
   "cell_type": "code",
   "execution_count": 35,
   "metadata": {},
   "outputs": [
    {
     "data": {
      "text/plain": [
       "array([1120, 1449, 1106,  466,  253,  575, 2651, 2426, 2374, 1178],\n",
       "      dtype=int64)"
      ]
     },
     "execution_count": 35,
     "metadata": {},
     "output_type": "execute_result"
    }
   ],
   "source": [
    "# Please, add your solution here\n",
    "np.argsort(scores[47])[::-1][:10]"
   ]
  },
  {
   "cell_type": "markdown",
   "metadata": {},
   "source": [
    "#####  Output of this step: Numpy matrix of size |U|*|I| containing the user-item relevance scores"
   ]
  },
  {
   "cell_type": "code",
   "execution_count": 36,
   "metadata": {},
   "outputs": [
    {
     "data": {
      "text/plain": [
       "(6040, 3706)"
      ]
     },
     "execution_count": 36,
     "metadata": {},
     "output_type": "execute_result"
    }
   ],
   "source": [
    "scores.shape"
   ]
  },
  {
   "cell_type": "markdown",
   "metadata": {},
   "source": [
    "## Step 5: Generate recommendations and compute evaluation metrics\n",
    "\n",
    "Finally, with the user-item relevance scores predicted in the previous step, we can generate the recommendations for each user and, then, compute a set of well-known evaluation metrics for recommender systems. "
   ]
  },
  {
   "cell_type": "markdown",
   "metadata": {},
   "source": [
    "#####  Input of this step: Numpy matrix of size |U|*|I| containing the user-item relevance scores and a list of cutoffs"
   ]
  },
  {
   "cell_type": "code",
   "execution_count": 37,
   "metadata": {},
   "outputs": [
    {
     "data": {
      "text/plain": [
       "(6040, 3706)"
      ]
     },
     "execution_count": 37,
     "metadata": {},
     "output_type": "execute_result"
    }
   ],
   "source": [
    "scores.shape"
   ]
  },
  {
   "cell_type": "code",
   "execution_count": 38,
   "metadata": {},
   "outputs": [],
   "source": [
    "cutoffs = np.array([5, 10, 20, 50, 100, 200])"
   ]
  },
  {
   "cell_type": "markdown",
   "metadata": {},
   "source": [
    "For the sake of convenience, for the considered recommender model, we also compute some fairness metrics required for the case studies. The following line of code loads the demographic membership of providers, which will be discussed in detail in Notebook #03.\n",
    "\n",
    "**N.B.** While the gender is by no means a binary construct, to the best of our knowledge no dataset for speaker recognition with non-binary genders exists. What we are considering is a binary feature, as the current publicly available datasets offer."
   ]
  },
  {
   "cell_type": "code",
   "execution_count": 39,
   "metadata": {},
   "outputs": [],
   "source": [
    "gender_item_association = pd.read_csv(os.path.join(data_path, 'datasets', 'ml1m-dir-gender.csv')) "
   ]
  },
  {
   "cell_type": "markdown",
   "metadata": {},
   "source": [
    "This dataframes includes, for each item, the percentage of providers with gender_1 and gender_2 for that item, respectively. "
   ]
  },
  {
   "cell_type": "code",
   "execution_count": 40,
   "metadata": {},
   "outputs": [
    {
     "data": {
      "text/html": [
       "<div>\n",
       "<style scoped>\n",
       "    .dataframe tbody tr th:only-of-type {\n",
       "        vertical-align: middle;\n",
       "    }\n",
       "\n",
       "    .dataframe tbody tr th {\n",
       "        vertical-align: top;\n",
       "    }\n",
       "\n",
       "    .dataframe thead th {\n",
       "        text-align: right;\n",
       "    }\n",
       "</style>\n",
       "<table border=\"1\" class=\"dataframe\">\n",
       "  <thead>\n",
       "    <tr style=\"text-align: right;\">\n",
       "      <th></th>\n",
       "      <th>item_id</th>\n",
       "      <th>gender_1</th>\n",
       "      <th>gender_2</th>\n",
       "    </tr>\n",
       "  </thead>\n",
       "  <tbody>\n",
       "    <tr>\n",
       "      <th>3582</th>\n",
       "      <td>1886</td>\n",
       "      <td>0.0</td>\n",
       "      <td>1.0</td>\n",
       "    </tr>\n",
       "    <tr>\n",
       "      <th>2073</th>\n",
       "      <td>2079</td>\n",
       "      <td>0.0</td>\n",
       "      <td>1.0</td>\n",
       "    </tr>\n",
       "    <tr>\n",
       "      <th>2425</th>\n",
       "      <td>2745</td>\n",
       "      <td>NaN</td>\n",
       "      <td>NaN</td>\n",
       "    </tr>\n",
       "    <tr>\n",
       "      <th>93</th>\n",
       "      <td>2490</td>\n",
       "      <td>0.0</td>\n",
       "      <td>1.0</td>\n",
       "    </tr>\n",
       "    <tr>\n",
       "      <th>79</th>\n",
       "      <td>2236</td>\n",
       "      <td>0.0</td>\n",
       "      <td>1.0</td>\n",
       "    </tr>\n",
       "    <tr>\n",
       "      <th>1459</th>\n",
       "      <td>144</td>\n",
       "      <td>0.0</td>\n",
       "      <td>1.0</td>\n",
       "    </tr>\n",
       "    <tr>\n",
       "      <th>3398</th>\n",
       "      <td>758</td>\n",
       "      <td>NaN</td>\n",
       "      <td>NaN</td>\n",
       "    </tr>\n",
       "    <tr>\n",
       "      <th>366</th>\n",
       "      <td>1095</td>\n",
       "      <td>0.0</td>\n",
       "      <td>1.0</td>\n",
       "    </tr>\n",
       "    <tr>\n",
       "      <th>2724</th>\n",
       "      <td>3568</td>\n",
       "      <td>0.0</td>\n",
       "      <td>1.0</td>\n",
       "    </tr>\n",
       "    <tr>\n",
       "      <th>2162</th>\n",
       "      <td>3124</td>\n",
       "      <td>1.0</td>\n",
       "      <td>0.0</td>\n",
       "    </tr>\n",
       "  </tbody>\n",
       "</table>\n",
       "</div>"
      ],
      "text/plain": [
       "      item_id  gender_1  gender_2\n",
       "3582     1886       0.0       1.0\n",
       "2073     2079       0.0       1.0\n",
       "2425     2745       NaN       NaN\n",
       "93       2490       0.0       1.0\n",
       "79       2236       0.0       1.0\n",
       "1459      144       0.0       1.0\n",
       "3398      758       NaN       NaN\n",
       "366      1095       0.0       1.0\n",
       "2724     3568       0.0       1.0\n",
       "2162     3124       1.0       0.0"
      ]
     },
     "execution_count": 40,
     "metadata": {},
     "output_type": "execute_result"
    }
   ],
   "source": [
    "gender_item_association.sample(n=10, random_state=1)"
   ]
  },
  {
   "cell_type": "markdown",
   "metadata": {},
   "source": [
    "##### Exercise in brief: compute the percentage of items where at least one provider having gender_1 is represented.  "
   ]
  },
  {
   "cell_type": "code",
   "execution_count": 41,
   "metadata": {},
   "outputs": [
    {
     "name": "stdout",
     "output_type": "stream",
     "text": [
      "0.05\n"
     ]
    }
   ],
   "source": [
    "# Please, add your solution here\n",
    "print(round(len(gender_item_association[gender_item_association['gender_1'] > 0.0]) / len(items), 2))"
   ]
  },
  {
   "cell_type": "code",
   "execution_count": 42,
   "metadata": {},
   "outputs": [],
   "source": [
    "gender_maps = {i:g for i, g in zip(gender_item_association['item_id'], gender_item_association['gender_1'])}\n",
    "item_maps = {i1:i2 for i1, i2 in zip(traintest['item_id'].unique(), traintest['item_id_original'].unique())}"
   ]
  },
  {
   "cell_type": "code",
   "execution_count": 43,
   "metadata": {},
   "outputs": [],
   "source": [
    "item_group = [(1 if item_maps[i] in gender_maps and gender_maps[item_maps[i]] == 0 else 0) for i in range(len(items))]"
   ]
  },
  {
   "cell_type": "markdown",
   "metadata": {},
   "source": [
    "Then, we run the function which computes all the metrics relevant for the subsequent case studies. "
   ]
  },
  {
   "cell_type": "code",
   "execution_count": 44,
   "metadata": {},
   "outputs": [
    {
     "name": "stdout",
     "output_type": "stream",
     "text": [
      "Computing metrics for user 6040 / 6040\n"
     ]
    }
   ],
   "source": [
    "model.test(item_group=item_group, cutoffs=cutoffs)"
   ]
  },
  {
   "cell_type": "markdown",
   "metadata": {},
   "source": [
    "The method has pre-computed a set of metrics and saved the corresponding values in a Python dictionary, as detailed below. "
   ]
  },
  {
   "cell_type": "code",
   "execution_count": 45,
   "metadata": {},
   "outputs": [],
   "source": [
    "metrics = model.get_metrics()"
   ]
  },
  {
   "cell_type": "code",
   "execution_count": 46,
   "metadata": {},
   "outputs": [
    {
     "data": {
      "text/plain": [
       "dict_keys(['precision', 'recall', 'ndcg', 'hit', 'mean_popularity', 'diversity', 'novelty', 'item_coverage', 'visibility', 'exposure'])"
      ]
     },
     "execution_count": 46,
     "metadata": {},
     "output_type": "execute_result"
    }
   ],
   "source": [
    "metrics.keys()"
   ]
  },
  {
   "cell_type": "markdown",
   "metadata": {},
   "source": [
    "The values for each metrics have been computed and store for each cutoff."
   ]
  },
  {
   "cell_type": "code",
   "execution_count": 47,
   "metadata": {},
   "outputs": [
    {
     "name": "stdout",
     "output_type": "stream",
     "text": [
      "(6, 6040) precision\n",
      "(6, 6040) recall\n",
      "(6, 6040) ndcg\n",
      "(6, 6040) hit\n",
      "(6, 6040) mean_popularity\n",
      "(6, 6040) diversity\n",
      "(6, 6040) novelty\n",
      "(6, 3706) item_coverage\n",
      "(6, 6040) visibility\n",
      "(6, 6040) exposure\n"
     ]
    }
   ],
   "source": [
    "for name, values in metrics.items():\n",
    "    print(values.shape, name)"
   ]
  },
  {
   "cell_type": "markdown",
   "metadata": {},
   "source": [
    "For instance, we can access to the NDCG score for the user *120* at cutoff *10*, with the following commands."
   ]
  },
  {
   "cell_type": "code",
   "execution_count": 48,
   "metadata": {},
   "outputs": [
    {
     "data": {
      "text/plain": [
       "0.3494867399516553"
      ]
     },
     "execution_count": 48,
     "metadata": {},
     "output_type": "execute_result"
    }
   ],
   "source": [
    "user_id, cutoff_index = 1324, int(np.where(cutoffs == 10)[0])\n",
    "metrics['ndcg'][cutoff_index, user_id]"
   ]
  },
  {
   "cell_type": "markdown",
   "metadata": {},
   "source": [
    "##### Exercise in brief: compute the catalog coverage (i.e., percentage of items recommended at least once) at top-20.  "
   ]
  },
  {
   "cell_type": "code",
   "execution_count": 49,
   "metadata": {},
   "outputs": [
    {
     "name": "stdout",
     "output_type": "stream",
     "text": [
      "0.31\n"
     ]
    }
   ],
   "source": [
    "# Please, add your solution here\n",
    "print(round(len([1 for m in metrics['item_coverage'][int(np.where(cutoffs == 20)[0])] if m > 0]) / len(items), 2))"
   ]
  },
  {
   "cell_type": "markdown",
   "metadata": {},
   "source": [
    "For the sake of convenience, we will save the compted metrics."
   ]
  },
  {
   "cell_type": "code",
   "execution_count": 50,
   "metadata": {},
   "outputs": [],
   "source": [
    "save_obj(metrics, os.path.join(data_path, 'outputs/metrics/' + dataset + '_' + smode + '_' + model_type + '_metrics.pkl'))"
   ]
  },
  {
   "cell_type": "markdown",
   "metadata": {},
   "source": [
    "We can also see the aggregated values. "
   ]
  },
  {
   "cell_type": "code",
   "execution_count": 51,
   "metadata": {},
   "outputs": [
    {
     "name": "stdout",
     "output_type": "stream",
     "text": [
      "Precision: 0.1155 \n",
      "Recall: 0.048 \n",
      "NDCG: 0.1258 \n",
      "Hit Rate: 0.5139 \n",
      "Avg Popularity: 1987.3643 \n",
      "Category Diversity: 0.3319 \n",
      "Novelty: 1.7276 \n",
      "Item Coverage: 0.21 \n",
      "User Coverage: 0.5139\n",
      "Minority Exposure: 0.0307\n",
      "Minority Visibility: 0.0336\n"
     ]
    }
   ],
   "source": [
    "model.show_metrics(index_k=int(np.where(cutoffs == 10)[0]))"
   ]
  },
  {
   "cell_type": "markdown",
   "metadata": {},
   "source": [
    "#####  Output of this step: Dictionary of evaluation metrics \n",
    "---"
   ]
  },
  {
   "cell_type": "code",
   "execution_count": 52,
   "metadata": {},
   "outputs": [
    {
     "data": {
      "text/plain": [
       "'precision - recall - ndcg - hit - mean_popularity - diversity - novelty - item_coverage - visibility - exposure'"
      ]
     },
     "execution_count": 52,
     "metadata": {},
     "output_type": "execute_result"
    }
   ],
   "source": [
    "' - '.join(list(metrics.keys()))"
   ]
  },
  {
   "cell_type": "markdown",
   "metadata": {},
   "source": [
    "---"
   ]
  },
  {
   "cell_type": "markdown",
   "metadata": {},
   "source": [
    "## Step 7: Run the pipeline for Random, MostPop, and PointWise"
   ]
  },
  {
   "cell_type": "markdown",
   "metadata": {},
   "source": [
    "We will define a utility function to run all the above operations jointly for each of the other recommender models."
   ]
  },
  {
   "cell_type": "code",
   "execution_count": 53,
   "metadata": {},
   "outputs": [],
   "source": [
    "def run_model(model_type, no_epochs=None):\n",
    "    print('Running model', model_type)\n",
    "    model = model_types[model_type](users, items, train, test, category_per_item, item_field, user_field, rating_field)\n",
    "    model.train(no_epochs=no_epochs) if no_epochs else model.train() \n",
    "    model.predict()\n",
    "    scores = model.get_predictions()\n",
    "    save_obj(scores, os.path.join(data_path, 'outputs/predictions/' + dataset + '_' + smode + '_' + model_type + '_scores.pkl'))\n",
    "    model.test(item_group=item_group, cutoffs=cutoffs)\n",
    "    metrics = model.get_metrics()\n",
    "    save_obj(metrics, os.path.join(data_path, 'outputs/metrics/' + dataset + '_' + smode + '_' + model_type + '_metrics.pkl'))\n",
    "    print('\\n\\nFinal evaluation metrics:')\n",
    "    model.show_metrics(index_k=int(np.where(cutoffs == 10)[0]))"
   ]
  },
  {
   "cell_type": "code",
   "execution_count": 54,
   "metadata": {},
   "outputs": [
    {
     "name": "stdout",
     "output_type": "stream",
     "text": [
      "Running model random\n",
      "Initializing user, item, and categories lists\n",
      "Initializing observed, unobserved, and predicted relevance scores\n",
      "Initializing item popularity lists\n",
      "Initializing category per item\n",
      "Initializing category preference per user\n",
      "Initializing metrics\n",
      "Computing predictions\n",
      "Computing metrics for user 6040 / 6040\n",
      "\n",
      "\n",
      "Final evaluation metrics:\n",
      "Precision: 0.0096 \n",
      "Recall: 0.003 \n",
      "NDCG: 0.0098 \n",
      "Hit Rate: 0.0879 \n",
      "Avg Popularity: 196.5536 \n",
      "Category Diversity: 0.331 \n",
      "Novelty: 6.9893 \n",
      "Item Coverage: 1.0 \n",
      "User Coverage: 0.0879\n",
      "Minority Exposure: 0.1693\n",
      "Minority Visibility: 0.1692\n"
     ]
    }
   ],
   "source": [
    "run_model('random')"
   ]
  },
  {
   "cell_type": "code",
   "execution_count": 55,
   "metadata": {},
   "outputs": [
    {
     "name": "stdout",
     "output_type": "stream",
     "text": [
      "Running model mostpop\n",
      "Initializing user, item, and categories lists\n",
      "Initializing observed, unobserved, and predicted relevance scores\n",
      "Initializing item popularity lists\n",
      "Initializing category per item\n",
      "Initializing category preference per user\n",
      "Initializing metrics\n",
      "Computing predictions\n",
      "Computing metrics for user 6040 / 6040\n",
      "\n",
      "\n",
      "Final evaluation metrics:\n",
      "Precision: 0.1007 \n",
      "Recall: 0.0384 \n",
      "NDCG: 0.1096 \n",
      "Hit Rate: 0.4422 \n",
      "Avg Popularity: 2328.0848 \n",
      "Category Diversity: 0.3293 \n",
      "Novelty: 1.3922 \n",
      "Item Coverage: 0.03 \n",
      "User Coverage: 0.4422\n",
      "Minority Exposure: 0.0509\n",
      "Minority Visibility: 0.0616\n"
     ]
    }
   ],
   "source": [
    "run_model('mostpop')"
   ]
  },
  {
   "cell_type": "code",
   "execution_count": null,
   "metadata": {},
   "outputs": [
    {
     "name": "stdout",
     "output_type": "stream",
     "text": [
      "Running model pointwise\n",
      "Initializing user, item, and categories lists\n",
      "Initializing observed, unobserved, and predicted relevance scores\n",
      "Initializing item popularity lists\n",
      "Initializing category per item\n",
      "Initializing category preference per user\n",
      "Initializing metrics\n",
      "Generating training instances of type point\n",
      "Computing instances for interaction 800000 / 803798 of type point\n",
      "Performing training - Epochs 5 Batch Size 1024 Learning Rate 0.001 Factors 10 Negatives 10 Mode point\n",
      "Train on 7957600 samples, validate on 884178 samples\n",
      "Epoch 1/5\n",
      "7957600/7957600 [==============================] - 112s 14us/sample - loss: 0.2097 - val_loss: 0.2373\n",
      "Epoch 2/5\n",
      "7957600/7957600 [==============================] - 77s 10us/sample - loss: 0.1754 - val_loss: 0.2391\n",
      "Epoch 3/5\n",
      "7957600/7957600 [==============================] - 61s 8us/sample - loss: 0.1668 - val_loss: 0.2395\n",
      "Epoch 00003: early stopping\n",
      "Computing predictions for user 1200 / 6040"
     ]
    }
   ],
   "source": [
    "run_model('pointwise', no_epochs=5)"
   ]
  },
  {
   "cell_type": "markdown",
   "metadata": {},
   "source": [
    "## Follow-up: how to extend the toolbox\n",
    "\n",
    "- New splitter: take a look at the helpers/train_test_splitter.py file and how the existing generators have been defined. \n",
    "- New train instances creator: similarly, take a look at the helpers/instances_creator.py file and how the existing generators have been defined. \n",
    "- New model: a new subclass of the Model class defined in models/model.py should be defined, implementing a 'train' and a 'predict' method. \n",
    "- New metrics: both the 'test' and 'show_metrics' methods of models/model.py should be extended with the computation needed by the new metric.  "
   ]
  },
  {
   "cell_type": "code",
   "execution_count": null,
   "metadata": {},
   "outputs": [],
   "source": []
  }
 ],
 "metadata": {
  "kernelspec": {
   "display_name": "Python 3",
   "language": "python",
   "name": "python3"
  },
  "language_info": {
   "codemirror_mode": {
    "name": "ipython",
    "version": 3
   },
   "file_extension": ".py",
   "mimetype": "text/x-python",
   "name": "python",
   "nbconvert_exporter": "python",
   "pygments_lexer": "ipython3",
   "version": "3.6.8"
  }
 },
 "nbformat": 4,
 "nbformat_minor": 1
}
