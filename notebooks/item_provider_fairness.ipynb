{
 "cells": [
  {
   "cell_type": "markdown",
   "metadata": {},
   "source": [
    "# Notebook #03: Investigation on item provider fairness\n",
    "\n",
    "Considering the impact of recommendations on **item providers** is one of the duties of multi-sided recommender systems. Item providers are key stakeholders in online platforms, and their earnings and plans are influenced by the exposure their items receive in recommended lists. Prior work showed that certain minority groups of providers, characterized by a common sensitive attribute (e.g., gender or race), are being disproportionately affected by indirect and unintentional discrimination. This notebook will consider the **directors of movies in Movielens 1M** as **the item providers** and investigates how unfairness on gender-based demoraphic groups of providers affects providers' group visibility and exposure with respect to their representation in the item catalog.\n",
    "\n",
    "Our study encodes the idea of a **group-level proportionality between the contribution in the catalog and the relevance, the visibility, and the exposure**, following a distributive norm based on equity. Operationalizing this notion during the user-item relevance optimization stage may be envisioned as a proactive way of addressing provider’s fairness along the recommendation pipeline, given that relevance scores are the input for the ranking stage. Being optimized for their ability to rank, the estimated relevance scores directly influence the chance of an item being ranked high (i.e., the higher the relevance is, the more likely the item appears at the top). If these relevances are biased against the minority group, the recommender system is unfairly giving minority items less chance of being ranked high. The disparate impact we address consists in items of a small minority group of providers systematically receiving unfairly low relevance, and by extension an exposure not proportional to their contribution in the catalog. Our goal in this notebook is thus to investigate whether, during the recommendation learning stage, taking actions for increasing the relevance of items from the minority group positively impacts on providers’ group fairness.\n",
    "\n",
    "Under this scenario, to reduce disparities in relevance and exposure, we propose a **pre-processing strategy** that up-samples interactions where the minority group is predominant (e.g., an item where the minority is represented with two providers is better than item with only one provider of that group; moreover, the lower is the representation of the majority in that item, the more we can help the minority, by favoring an upsampling of these latter items). In addition, an **in-processing component** aims to control that the relevance to the items of the minority group is proportional to its contribution in the catalog. \n",
    "\n",
    "Specifically, in this notebook, we will:\n",
    "- load the Movielens 1M dataset; \n",
    "- identify the representation of each gender-based group of providers for each item and across items;\n",
    "- investigate the visibility and exposure of the minority group of providers given by some recommender models; \n",
    "- work with a pre-processing treatment against provider unfairness, by upsampling interactions involving the minority;\n",
    "- investigate the impact of our pre-processing treatment on the visibility and exposure of providers;\n",
    "- extend the unfairness treatment with an in-processing approach which encodes a group proportionality for relevance scores;\n",
    "- investigate again the impact of our pre-processing treatment on the visibility and exposure of providers;\n",
    "- identify the limitations and future challenges derived from the presented work. \n",
    "\n",
    "**While gender is by no means a binary construct, to the best of our knowledge no dataset with non-binary genders exists. What we are considering is a binary feature, as the current publicly available platforms offer.**\n",
    "\n",
    "- Boratto, Ludovico, Gianni Fenu, and Mirko Marras. \"Interplay between Upsampling and Regularization for Provider Fairness in Recommender Systems.\" arXiv preprint arXiv:2006.04279 (2020)."
   ]
  },
  {
   "cell_type": "markdown",
   "metadata": {},
   "source": [
    "## Setup the working environment for this tutorial"
   ]
  },
  {
   "cell_type": "code",
   "execution_count": null,
   "metadata": {},
   "outputs": [],
   "source": [
    "from google.colab import drive\n",
    "drive.mount('/content/drive')"
   ]
  },
  {
   "cell_type": "code",
   "execution_count": null,
   "metadata": {},
   "outputs": [],
   "source": [
    "%cd /content/drive/My Drive/umap2020/notebooks"
   ]
  },
  {
   "cell_type": "code",
   "execution_count": 1,
   "metadata": {},
   "outputs": [],
   "source": [
    "import sys \n",
    "import os\n",
    "\n",
    "sys.path.append(os.path.join('..'))"
   ]
  },
  {
   "cell_type": "code",
   "execution_count": 2,
   "metadata": {},
   "outputs": [],
   "source": [
    "import pandas as pd\n",
    "import numpy as np\n",
    "import math"
   ]
  },
  {
   "cell_type": "code",
   "execution_count": 3,
   "metadata": {},
   "outputs": [],
   "source": [
    "import matplotlib.pyplot as plt\n",
    "%matplotlib inline"
   ]
  },
  {
   "cell_type": "code",
   "execution_count": 4,
   "metadata": {},
   "outputs": [],
   "source": [
    "from helpers.train_test_splitter import *\n",
    "from helpers.instances_upsampler import *\n",
    "from models.pointwise import PointWise\n",
    "from models.pairwise import PairWise\n",
    "from models.mostpop import MostPop\n",
    "from models.random import Random\n",
    "from helpers.utils import *"
   ]
  },
  {
   "cell_type": "code",
   "execution_count": 5,
   "metadata": {},
   "outputs": [],
   "source": [
    "data_path = '../data/'"
   ]
  },
  {
   "cell_type": "markdown",
   "metadata": {},
   "source": [
    "## Step 1: Computing the representation of gender groups of providers in the dataset \n",
    "\n",
    "The first step will require us to load the Movielens 1M dataset and inspect to what extent the different groups of providers are represented in the catalog.   "
   ]
  },
  {
   "cell_type": "markdown",
   "metadata": {},
   "source": [
    "##### Input of this step: CSV file including user preferences"
   ]
  },
  {
   "cell_type": "code",
   "execution_count": 6,
   "metadata": {},
   "outputs": [],
   "source": [
    "dataset = 'ml1m'          \n",
    "method = 'utime_pfair'\n",
    "user_field = 'user_id'\n",
    "item_field = 'item_id'\n",
    "rating_field = 'rating'\n",
    "time_field = 'timestamp'\n",
    "type_field = 'type_id'"
   ]
  },
  {
   "cell_type": "code",
   "execution_count": 7,
   "metadata": {},
   "outputs": [],
   "source": [
    "data = pd.read_csv('../data/datasets/' + dataset + '.csv', encoding='utf8')"
   ]
  },
  {
   "cell_type": "code",
   "execution_count": 8,
   "metadata": {},
   "outputs": [
    {
     "data": {
      "text/html": [
       "<div>\n",
       "<style scoped>\n",
       "    .dataframe tbody tr th:only-of-type {\n",
       "        vertical-align: middle;\n",
       "    }\n",
       "\n",
       "    .dataframe tbody tr th {\n",
       "        vertical-align: top;\n",
       "    }\n",
       "\n",
       "    .dataframe thead th {\n",
       "        text-align: right;\n",
       "    }\n",
       "</style>\n",
       "<table border=\"1\" class=\"dataframe\">\n",
       "  <thead>\n",
       "    <tr style=\"text-align: right;\">\n",
       "      <th></th>\n",
       "      <th>user_id</th>\n",
       "      <th>item_id</th>\n",
       "      <th>rating</th>\n",
       "      <th>timestamp</th>\n",
       "      <th>type</th>\n",
       "      <th>type_id</th>\n",
       "    </tr>\n",
       "  </thead>\n",
       "  <tbody>\n",
       "    <tr>\n",
       "      <th>630120</th>\n",
       "      <td>3752</td>\n",
       "      <td>319</td>\n",
       "      <td>4.0</td>\n",
       "      <td>2000-08-13 01:03:20</td>\n",
       "      <td>Thriller</td>\n",
       "      <td>15</td>\n",
       "    </tr>\n",
       "    <tr>\n",
       "      <th>229398</th>\n",
       "      <td>2411</td>\n",
       "      <td>39</td>\n",
       "      <td>4.0</td>\n",
       "      <td>2000-11-19 00:38:54</td>\n",
       "      <td>Romance</td>\n",
       "      <td>13</td>\n",
       "    </tr>\n",
       "    <tr>\n",
       "      <th>758377</th>\n",
       "      <td>2172</td>\n",
       "      <td>2915</td>\n",
       "      <td>3.0</td>\n",
       "      <td>2002-03-02 22:18:54</td>\n",
       "      <td>Comedy</td>\n",
       "      <td>4</td>\n",
       "    </tr>\n",
       "    <tr>\n",
       "      <th>159240</th>\n",
       "      <td>2366</td>\n",
       "      <td>349</td>\n",
       "      <td>3.0</td>\n",
       "      <td>2000-11-16 03:11:21</td>\n",
       "      <td>Action</td>\n",
       "      <td>0</td>\n",
       "    </tr>\n",
       "    <tr>\n",
       "      <th>254252</th>\n",
       "      <td>1017</td>\n",
       "      <td>377</td>\n",
       "      <td>4.0</td>\n",
       "      <td>2000-11-23 21:15:04</td>\n",
       "      <td>Thriller</td>\n",
       "      <td>15</td>\n",
       "    </tr>\n",
       "    <tr>\n",
       "      <th>27168</th>\n",
       "      <td>3391</td>\n",
       "      <td>527</td>\n",
       "      <td>5.0</td>\n",
       "      <td>2000-08-29 19:18:26</td>\n",
       "      <td>Drama</td>\n",
       "      <td>7</td>\n",
       "    </tr>\n",
       "    <tr>\n",
       "      <th>196538</th>\n",
       "      <td>2376</td>\n",
       "      <td>1580</td>\n",
       "      <td>4.0</td>\n",
       "      <td>2002-06-19 12:58:43</td>\n",
       "      <td>Comedy</td>\n",
       "      <td>4</td>\n",
       "    </tr>\n",
       "    <tr>\n",
       "      <th>37123</th>\n",
       "      <td>4635</td>\n",
       "      <td>783</td>\n",
       "      <td>3.0</td>\n",
       "      <td>2000-07-19 21:31:53</td>\n",
       "      <td>Musical</td>\n",
       "      <td>11</td>\n",
       "    </tr>\n",
       "    <tr>\n",
       "      <th>982048</th>\n",
       "      <td>868</td>\n",
       "      <td>1346</td>\n",
       "      <td>4.0</td>\n",
       "      <td>2000-11-26 23:13:31</td>\n",
       "      <td>Horror</td>\n",
       "      <td>10</td>\n",
       "    </tr>\n",
       "    <tr>\n",
       "      <th>994502</th>\n",
       "      <td>1880</td>\n",
       "      <td>2275</td>\n",
       "      <td>4.0</td>\n",
       "      <td>2000-11-20 05:37:43</td>\n",
       "      <td>Adventure</td>\n",
       "      <td>1</td>\n",
       "    </tr>\n",
       "  </tbody>\n",
       "</table>\n",
       "</div>"
      ],
      "text/plain": [
       "        user_id  item_id  rating            timestamp       type  type_id\n",
       "630120     3752      319     4.0  2000-08-13 01:03:20   Thriller       15\n",
       "229398     2411       39     4.0  2000-11-19 00:38:54    Romance       13\n",
       "758377     2172     2915     3.0  2002-03-02 22:18:54     Comedy        4\n",
       "159240     2366      349     3.0  2000-11-16 03:11:21     Action        0\n",
       "254252     1017      377     4.0  2000-11-23 21:15:04   Thriller       15\n",
       "27168      3391      527     5.0  2000-08-29 19:18:26      Drama        7\n",
       "196538     2376     1580     4.0  2002-06-19 12:58:43     Comedy        4\n",
       "37123      4635      783     3.0  2000-07-19 21:31:53    Musical       11\n",
       "982048      868     1346     4.0  2000-11-26 23:13:31     Horror       10\n",
       "994502     1880     2275     4.0  2000-11-20 05:37:43  Adventure        1"
      ]
     },
     "execution_count": 8,
     "metadata": {},
     "output_type": "execute_result"
    }
   ],
   "source": [
    "data.sample(n=10, random_state=1)"
   ]
  },
  {
   "cell_type": "markdown",
   "metadata": {},
   "source": [
    "Now, in order to associate to each interaction the extent to which it involves each group of providers, we need to append the gender information to the interactions included in the original dataset. We will leverage a csv that, for each item, gives the percentage of directors belonging to the two genders. Please note that more than one director can be associated to a movie. "
   ]
  },
  {
   "cell_type": "code",
   "execution_count": 9,
   "metadata": {},
   "outputs": [],
   "source": [
    "gender_item_association = pd.read_csv('../data/datasets/' + dataset + '-dir-gender' + '.csv', encoding='utf8')"
   ]
  },
  {
   "cell_type": "code",
   "execution_count": 10,
   "metadata": {},
   "outputs": [
    {
     "data": {
      "text/html": [
       "<div>\n",
       "<style scoped>\n",
       "    .dataframe tbody tr th:only-of-type {\n",
       "        vertical-align: middle;\n",
       "    }\n",
       "\n",
       "    .dataframe tbody tr th {\n",
       "        vertical-align: top;\n",
       "    }\n",
       "\n",
       "    .dataframe thead th {\n",
       "        text-align: right;\n",
       "    }\n",
       "</style>\n",
       "<table border=\"1\" class=\"dataframe\">\n",
       "  <thead>\n",
       "    <tr style=\"text-align: right;\">\n",
       "      <th></th>\n",
       "      <th>item_id</th>\n",
       "      <th>gender_1</th>\n",
       "      <th>gender_2</th>\n",
       "    </tr>\n",
       "  </thead>\n",
       "  <tbody>\n",
       "    <tr>\n",
       "      <th>0</th>\n",
       "      <td>661</td>\n",
       "      <td>0.0</td>\n",
       "      <td>1.0</td>\n",
       "    </tr>\n",
       "    <tr>\n",
       "      <th>1</th>\n",
       "      <td>914</td>\n",
       "      <td>0.0</td>\n",
       "      <td>1.0</td>\n",
       "    </tr>\n",
       "    <tr>\n",
       "      <th>2</th>\n",
       "      <td>3408</td>\n",
       "      <td>0.0</td>\n",
       "      <td>1.0</td>\n",
       "    </tr>\n",
       "    <tr>\n",
       "      <th>3</th>\n",
       "      <td>2355</td>\n",
       "      <td>0.0</td>\n",
       "      <td>1.0</td>\n",
       "    </tr>\n",
       "    <tr>\n",
       "      <th>4</th>\n",
       "      <td>1197</td>\n",
       "      <td>0.0</td>\n",
       "      <td>1.0</td>\n",
       "    </tr>\n",
       "  </tbody>\n",
       "</table>\n",
       "</div>"
      ],
      "text/plain": [
       "   item_id  gender_1  gender_2\n",
       "0      661       0.0       1.0\n",
       "1      914       0.0       1.0\n",
       "2     3408       0.0       1.0\n",
       "3     2355       0.0       1.0\n",
       "4     1197       0.0       1.0"
      ]
     },
     "execution_count": 10,
     "metadata": {},
     "output_type": "execute_result"
    }
   ],
   "source": [
    "gender_item_association.head()"
   ]
  },
  {
   "cell_type": "code",
   "execution_count": 11,
   "metadata": {},
   "outputs": [
    {
     "data": {
      "text/plain": [
       "0.05450620615218565"
      ]
     },
     "execution_count": 11,
     "metadata": {},
     "output_type": "execute_result"
    }
   ],
   "source": [
    "len(gender_item_association[gender_item_association['gender_1'] > 0]) / len(gender_item_association)"
   ]
  },
  {
   "cell_type": "code",
   "execution_count": 12,
   "metadata": {},
   "outputs": [
    {
     "data": {
      "text/plain": [
       "0.8375607123583378"
      ]
     },
     "execution_count": 12,
     "metadata": {},
     "output_type": "execute_result"
    }
   ],
   "source": [
    "len(gender_item_association[gender_item_association['gender_1'] == 0]) / len(gender_item_association)"
   ]
  },
  {
   "cell_type": "markdown",
   "metadata": {},
   "source": [
    "We can observe that the first gender group represents a minority provider group in this dataset, with a representation of 5% in the catalog. The other gender group is reprensented by the 83% in the catalog. By summing up the two percentages, we do not reach a 100% of representation. This is due to the fact that, for some movies, we were not able to retrieve the gender information of the respective directors. For the sake of easiness, we assume that items of providers whose gender is unknown are part of the minority group, together with group 1. "
   ]
  },
  {
   "cell_type": "code",
   "execution_count": 13,
   "metadata": {},
   "outputs": [],
   "source": [
    "gender_item_association['minority'] = gender_item_association['gender_1'].apply(lambda x: 1.0 if math.isnan(x) else x)\n",
    "gender_item_association['majority'] = gender_item_association['gender_2'].apply(lambda x: 0.0 if math.isnan(x) else x)"
   ]
  },
  {
   "cell_type": "code",
   "execution_count": 14,
   "metadata": {},
   "outputs": [],
   "source": [
    "del gender_item_association['gender_1']\n",
    "del gender_item_association['gender_2']"
   ]
  },
  {
   "cell_type": "code",
   "execution_count": 15,
   "metadata": {},
   "outputs": [
    {
     "data": {
      "text/plain": [
       "0.16243928764166216"
      ]
     },
     "execution_count": 15,
     "metadata": {},
     "output_type": "execute_result"
    }
   ],
   "source": [
    "len(gender_item_association[gender_item_association['minority'] > 0]) / len(gender_item_association)"
   ]
  },
  {
   "cell_type": "code",
   "execution_count": 16,
   "metadata": {},
   "outputs": [
    {
     "data": {
      "text/plain": [
       "0.8399892066918511"
      ]
     },
     "execution_count": 16,
     "metadata": {},
     "output_type": "execute_result"
    }
   ],
   "source": [
    "len(gender_item_association[gender_item_association['majority'] > 0]) / len(gender_item_association)"
   ]
  },
  {
   "cell_type": "markdown",
   "metadata": {},
   "source": [
    "In this case study, we thus work with a minority having a representation of 16% in the catalog of items (conversely, the majority has a representation of 84%. Therefore, our goal would be to ensure that the visibility and the exposure of the minority group in the recommendations is proportional to such a representation in the catalog, i.e., 16%. "
   ]
  },
  {
   "cell_type": "code",
   "execution_count": 17,
   "metadata": {},
   "outputs": [],
   "source": [
    "original_minority_rep = len(gender_item_association[gender_item_association['minority'] > 0]) / len(gender_item_association)"
   ]
  },
  {
   "cell_type": "code",
   "execution_count": 18,
   "metadata": {},
   "outputs": [
    {
     "data": {
      "text/plain": [
       "0.16243928764166216"
      ]
     },
     "execution_count": 18,
     "metadata": {},
     "output_type": "execute_result"
    }
   ],
   "source": [
    "original_minority_rep"
   ]
  },
  {
   "cell_type": "markdown",
   "metadata": {},
   "source": [
    "For the sake of easiness, we join the original interactions in Movielens 1M with the gender information of the providers involved in each interaction. "
   ]
  },
  {
   "cell_type": "code",
   "execution_count": 19,
   "metadata": {},
   "outputs": [],
   "source": [
    "data = pd.merge(data, gender_item_association, on='item_id')"
   ]
  },
  {
   "cell_type": "markdown",
   "metadata": {},
   "source": [
    "##### Output of this step: Dataframe / CSV file with the user preferences and the associated gender information for the involved providers"
   ]
  },
  {
   "cell_type": "code",
   "execution_count": 20,
   "metadata": {},
   "outputs": [
    {
     "data": {
      "text/html": [
       "<div>\n",
       "<style scoped>\n",
       "    .dataframe tbody tr th:only-of-type {\n",
       "        vertical-align: middle;\n",
       "    }\n",
       "\n",
       "    .dataframe tbody tr th {\n",
       "        vertical-align: top;\n",
       "    }\n",
       "\n",
       "    .dataframe thead th {\n",
       "        text-align: right;\n",
       "    }\n",
       "</style>\n",
       "<table border=\"1\" class=\"dataframe\">\n",
       "  <thead>\n",
       "    <tr style=\"text-align: right;\">\n",
       "      <th></th>\n",
       "      <th>user_id</th>\n",
       "      <th>item_id</th>\n",
       "      <th>rating</th>\n",
       "      <th>timestamp</th>\n",
       "      <th>type</th>\n",
       "      <th>type_id</th>\n",
       "      <th>minority</th>\n",
       "      <th>majority</th>\n",
       "    </tr>\n",
       "  </thead>\n",
       "  <tbody>\n",
       "    <tr>\n",
       "      <th>630120</th>\n",
       "      <td>3752</td>\n",
       "      <td>319</td>\n",
       "      <td>4.0</td>\n",
       "      <td>2000-08-13 01:03:20</td>\n",
       "      <td>Thriller</td>\n",
       "      <td>15</td>\n",
       "      <td>0.0</td>\n",
       "      <td>1.0</td>\n",
       "    </tr>\n",
       "    <tr>\n",
       "      <th>229398</th>\n",
       "      <td>2411</td>\n",
       "      <td>39</td>\n",
       "      <td>4.0</td>\n",
       "      <td>2000-11-19 00:38:54</td>\n",
       "      <td>Romance</td>\n",
       "      <td>13</td>\n",
       "      <td>1.0</td>\n",
       "      <td>0.0</td>\n",
       "    </tr>\n",
       "    <tr>\n",
       "      <th>758377</th>\n",
       "      <td>2172</td>\n",
       "      <td>2915</td>\n",
       "      <td>3.0</td>\n",
       "      <td>2002-03-02 22:18:54</td>\n",
       "      <td>Comedy</td>\n",
       "      <td>4</td>\n",
       "      <td>0.0</td>\n",
       "      <td>1.0</td>\n",
       "    </tr>\n",
       "    <tr>\n",
       "      <th>159240</th>\n",
       "      <td>2366</td>\n",
       "      <td>349</td>\n",
       "      <td>3.0</td>\n",
       "      <td>2000-11-16 03:11:21</td>\n",
       "      <td>Action</td>\n",
       "      <td>0</td>\n",
       "      <td>0.0</td>\n",
       "      <td>1.0</td>\n",
       "    </tr>\n",
       "    <tr>\n",
       "      <th>254252</th>\n",
       "      <td>1017</td>\n",
       "      <td>377</td>\n",
       "      <td>4.0</td>\n",
       "      <td>2000-11-23 21:15:04</td>\n",
       "      <td>Thriller</td>\n",
       "      <td>15</td>\n",
       "      <td>0.0</td>\n",
       "      <td>1.0</td>\n",
       "    </tr>\n",
       "    <tr>\n",
       "      <th>27168</th>\n",
       "      <td>3391</td>\n",
       "      <td>527</td>\n",
       "      <td>5.0</td>\n",
       "      <td>2000-08-29 19:18:26</td>\n",
       "      <td>Drama</td>\n",
       "      <td>7</td>\n",
       "      <td>0.0</td>\n",
       "      <td>1.0</td>\n",
       "    </tr>\n",
       "    <tr>\n",
       "      <th>196538</th>\n",
       "      <td>2376</td>\n",
       "      <td>1580</td>\n",
       "      <td>4.0</td>\n",
       "      <td>2002-06-19 12:58:43</td>\n",
       "      <td>Comedy</td>\n",
       "      <td>4</td>\n",
       "      <td>0.0</td>\n",
       "      <td>1.0</td>\n",
       "    </tr>\n",
       "    <tr>\n",
       "      <th>37123</th>\n",
       "      <td>4635</td>\n",
       "      <td>783</td>\n",
       "      <td>3.0</td>\n",
       "      <td>2000-07-19 21:31:53</td>\n",
       "      <td>Musical</td>\n",
       "      <td>11</td>\n",
       "      <td>0.0</td>\n",
       "      <td>1.0</td>\n",
       "    </tr>\n",
       "    <tr>\n",
       "      <th>982048</th>\n",
       "      <td>868</td>\n",
       "      <td>1346</td>\n",
       "      <td>4.0</td>\n",
       "      <td>2000-11-26 23:13:31</td>\n",
       "      <td>Horror</td>\n",
       "      <td>10</td>\n",
       "      <td>0.0</td>\n",
       "      <td>1.0</td>\n",
       "    </tr>\n",
       "    <tr>\n",
       "      <th>994502</th>\n",
       "      <td>1880</td>\n",
       "      <td>2275</td>\n",
       "      <td>4.0</td>\n",
       "      <td>2000-11-20 05:37:43</td>\n",
       "      <td>Adventure</td>\n",
       "      <td>1</td>\n",
       "      <td>1.0</td>\n",
       "      <td>0.0</td>\n",
       "    </tr>\n",
       "  </tbody>\n",
       "</table>\n",
       "</div>"
      ],
      "text/plain": [
       "        user_id  item_id  rating            timestamp       type  type_id  \\\n",
       "630120     3752      319     4.0  2000-08-13 01:03:20   Thriller       15   \n",
       "229398     2411       39     4.0  2000-11-19 00:38:54    Romance       13   \n",
       "758377     2172     2915     3.0  2002-03-02 22:18:54     Comedy        4   \n",
       "159240     2366      349     3.0  2000-11-16 03:11:21     Action        0   \n",
       "254252     1017      377     4.0  2000-11-23 21:15:04   Thriller       15   \n",
       "27168      3391      527     5.0  2000-08-29 19:18:26      Drama        7   \n",
       "196538     2376     1580     4.0  2002-06-19 12:58:43     Comedy        4   \n",
       "37123      4635      783     3.0  2000-07-19 21:31:53    Musical       11   \n",
       "982048      868     1346     4.0  2000-11-26 23:13:31     Horror       10   \n",
       "994502     1880     2275     4.0  2000-11-20 05:37:43  Adventure        1   \n",
       "\n",
       "        minority  majority  \n",
       "630120       0.0       1.0  \n",
       "229398       1.0       0.0  \n",
       "758377       0.0       1.0  \n",
       "159240       0.0       1.0  \n",
       "254252       0.0       1.0  \n",
       "27168        0.0       1.0  \n",
       "196538       0.0       1.0  \n",
       "37123        0.0       1.0  \n",
       "982048       0.0       1.0  \n",
       "994502       1.0       0.0  "
      ]
     },
     "execution_count": 20,
     "metadata": {},
     "output_type": "execute_result"
    }
   ],
   "source": [
    "data.sample(n=10, random_state=1)"
   ]
  },
  {
   "cell_type": "markdown",
   "metadata": {},
   "source": [
    "## Step 2: Analysis of provider group visibility and exposure in recommendations\n",
    "\n",
    "In the first notebook, we run an experimental pipeline for four recommender models, namely Random, MostPop, PairWise, and PointWise. The output of each step of the pipeline has been saved into the folder *data/outputs/*. The goal of this step is to load the evaluation metrics associated to each recommender model and investigate how they vary across models. "
   ]
  },
  {
   "cell_type": "code",
   "execution_count": 21,
   "metadata": {},
   "outputs": [
    {
     "data": {
      "text/html": [
       "<div>\n",
       "<style scoped>\n",
       "    .dataframe tbody tr th:only-of-type {\n",
       "        vertical-align: middle;\n",
       "    }\n",
       "\n",
       "    .dataframe tbody tr th {\n",
       "        vertical-align: top;\n",
       "    }\n",
       "\n",
       "    .dataframe thead th {\n",
       "        text-align: right;\n",
       "    }\n",
       "</style>\n",
       "<table border=\"1\" class=\"dataframe\">\n",
       "  <thead>\n",
       "    <tr style=\"text-align: right;\">\n",
       "      <th></th>\n",
       "      <th>user_id</th>\n",
       "      <th>item_id</th>\n",
       "      <th>rating</th>\n",
       "      <th>timestamp</th>\n",
       "      <th>type</th>\n",
       "      <th>type_id</th>\n",
       "      <th>minority</th>\n",
       "      <th>majority</th>\n",
       "    </tr>\n",
       "  </thead>\n",
       "  <tbody>\n",
       "    <tr>\n",
       "      <th>630120</th>\n",
       "      <td>3752</td>\n",
       "      <td>319</td>\n",
       "      <td>4.0</td>\n",
       "      <td>2000-08-13 01:03:20</td>\n",
       "      <td>Thriller</td>\n",
       "      <td>15</td>\n",
       "      <td>0.0</td>\n",
       "      <td>1.0</td>\n",
       "    </tr>\n",
       "    <tr>\n",
       "      <th>229398</th>\n",
       "      <td>2411</td>\n",
       "      <td>39</td>\n",
       "      <td>4.0</td>\n",
       "      <td>2000-11-19 00:38:54</td>\n",
       "      <td>Romance</td>\n",
       "      <td>13</td>\n",
       "      <td>1.0</td>\n",
       "      <td>0.0</td>\n",
       "    </tr>\n",
       "    <tr>\n",
       "      <th>758377</th>\n",
       "      <td>2172</td>\n",
       "      <td>2915</td>\n",
       "      <td>3.0</td>\n",
       "      <td>2002-03-02 22:18:54</td>\n",
       "      <td>Comedy</td>\n",
       "      <td>4</td>\n",
       "      <td>0.0</td>\n",
       "      <td>1.0</td>\n",
       "    </tr>\n",
       "    <tr>\n",
       "      <th>159240</th>\n",
       "      <td>2366</td>\n",
       "      <td>349</td>\n",
       "      <td>3.0</td>\n",
       "      <td>2000-11-16 03:11:21</td>\n",
       "      <td>Action</td>\n",
       "      <td>0</td>\n",
       "      <td>0.0</td>\n",
       "      <td>1.0</td>\n",
       "    </tr>\n",
       "    <tr>\n",
       "      <th>254252</th>\n",
       "      <td>1017</td>\n",
       "      <td>377</td>\n",
       "      <td>4.0</td>\n",
       "      <td>2000-11-23 21:15:04</td>\n",
       "      <td>Thriller</td>\n",
       "      <td>15</td>\n",
       "      <td>0.0</td>\n",
       "      <td>1.0</td>\n",
       "    </tr>\n",
       "    <tr>\n",
       "      <th>27168</th>\n",
       "      <td>3391</td>\n",
       "      <td>527</td>\n",
       "      <td>5.0</td>\n",
       "      <td>2000-08-29 19:18:26</td>\n",
       "      <td>Drama</td>\n",
       "      <td>7</td>\n",
       "      <td>0.0</td>\n",
       "      <td>1.0</td>\n",
       "    </tr>\n",
       "    <tr>\n",
       "      <th>196538</th>\n",
       "      <td>2376</td>\n",
       "      <td>1580</td>\n",
       "      <td>4.0</td>\n",
       "      <td>2002-06-19 12:58:43</td>\n",
       "      <td>Comedy</td>\n",
       "      <td>4</td>\n",
       "      <td>0.0</td>\n",
       "      <td>1.0</td>\n",
       "    </tr>\n",
       "    <tr>\n",
       "      <th>37123</th>\n",
       "      <td>4635</td>\n",
       "      <td>783</td>\n",
       "      <td>3.0</td>\n",
       "      <td>2000-07-19 21:31:53</td>\n",
       "      <td>Musical</td>\n",
       "      <td>11</td>\n",
       "      <td>0.0</td>\n",
       "      <td>1.0</td>\n",
       "    </tr>\n",
       "    <tr>\n",
       "      <th>982048</th>\n",
       "      <td>868</td>\n",
       "      <td>1346</td>\n",
       "      <td>4.0</td>\n",
       "      <td>2000-11-26 23:13:31</td>\n",
       "      <td>Horror</td>\n",
       "      <td>10</td>\n",
       "      <td>0.0</td>\n",
       "      <td>1.0</td>\n",
       "    </tr>\n",
       "    <tr>\n",
       "      <th>994502</th>\n",
       "      <td>1880</td>\n",
       "      <td>2275</td>\n",
       "      <td>4.0</td>\n",
       "      <td>2000-11-20 05:37:43</td>\n",
       "      <td>Adventure</td>\n",
       "      <td>1</td>\n",
       "      <td>1.0</td>\n",
       "      <td>0.0</td>\n",
       "    </tr>\n",
       "  </tbody>\n",
       "</table>\n",
       "</div>"
      ],
      "text/plain": [
       "        user_id  item_id  rating            timestamp       type  type_id  \\\n",
       "630120     3752      319     4.0  2000-08-13 01:03:20   Thriller       15   \n",
       "229398     2411       39     4.0  2000-11-19 00:38:54    Romance       13   \n",
       "758377     2172     2915     3.0  2002-03-02 22:18:54     Comedy        4   \n",
       "159240     2366      349     3.0  2000-11-16 03:11:21     Action        0   \n",
       "254252     1017      377     4.0  2000-11-23 21:15:04   Thriller       15   \n",
       "27168      3391      527     5.0  2000-08-29 19:18:26      Drama        7   \n",
       "196538     2376     1580     4.0  2002-06-19 12:58:43     Comedy        4   \n",
       "37123      4635      783     3.0  2000-07-19 21:31:53    Musical       11   \n",
       "982048      868     1346     4.0  2000-11-26 23:13:31     Horror       10   \n",
       "994502     1880     2275     4.0  2000-11-20 05:37:43  Adventure        1   \n",
       "\n",
       "        minority  majority  \n",
       "630120       0.0       1.0  \n",
       "229398       1.0       0.0  \n",
       "758377       0.0       1.0  \n",
       "159240       0.0       1.0  \n",
       "254252       0.0       1.0  \n",
       "27168        0.0       1.0  \n",
       "196538       0.0       1.0  \n",
       "37123        0.0       1.0  \n",
       "982048       0.0       1.0  \n",
       "994502       1.0       0.0  "
      ]
     },
     "execution_count": 21,
     "metadata": {},
     "output_type": "execute_result"
    }
   ],
   "source": [
    "data.sample(n=10, random_state=1)"
   ]
  },
  {
   "cell_type": "markdown",
   "metadata": {},
   "source": [
    "In case you have successfully completed Notebook #01, you should have four metric files in *data/outputs/metrics*. "
   ]
  },
  {
   "cell_type": "code",
   "execution_count": 21,
   "metadata": {},
   "outputs": [
    {
     "name": "stderr",
     "output_type": "stream",
     "text": [
      "\"ls\" non Š riconosciuto come comando interno o esterno,\n",
      " un programma eseguibile o un file batch.\n"
     ]
    }
   ],
   "source": [
    "! ls \"../data/outputs/metrics\""
   ]
  },
  {
   "cell_type": "markdown",
   "metadata": {},
   "source": [
    "Hence, we have four recommender models, whose identifiers are the names of the corresponding pickle files. "
   ]
  },
  {
   "cell_type": "code",
   "execution_count": 22,
   "metadata": {},
   "outputs": [],
   "source": [
    "model_types = ['utime_pairwise', 'utime_pointwise', 'utime_random', 'utime_mostpop']"
   ]
  },
  {
   "cell_type": "markdown",
   "metadata": {},
   "source": [
    "For each recommender model, we load the pre-computed metrics in order to show them. This helps us to focus on the assessment of the unfairness behavior of the models, without requiring to re-run their experimental pipeline from scratch. "
   ]
  },
  {
   "cell_type": "code",
   "execution_count": 23,
   "metadata": {},
   "outputs": [],
   "source": [
    "def load_metrics(model_types):\n",
    "    metrics = {}\n",
    "    for model_type in model_types:\n",
    "        metrics[model_type] = load_obj(os.path.join(data_path, 'outputs/metrics/'+dataset+'_'+model_type+'_metrics.pkl'))\n",
    "    return metrics"
   ]
  },
  {
   "cell_type": "code",
   "execution_count": 24,
   "metadata": {},
   "outputs": [],
   "source": [
    "metrics = load_metrics(model_types)"
   ]
  },
  {
   "cell_type": "markdown",
   "metadata": {},
   "source": [
    "The same cut-offs considered in the previous notebooks will be used.  "
   ]
  },
  {
   "cell_type": "code",
   "execution_count": 25,
   "metadata": {},
   "outputs": [],
   "source": [
    "cutoffs = np.array([5, 10, 20, 50, 100, 200]) "
   ]
  },
  {
   "cell_type": "markdown",
   "metadata": {},
   "source": [
    "First, we compare the recommender models on the extent to which they provide effective recommendations to users. "
   ]
  },
  {
   "cell_type": "code",
   "execution_count": 26,
   "metadata": {},
   "outputs": [],
   "source": [
    "def plot_effectiveness(metrics, cutoffs):\n",
    "    plt.rcParams.update({'font.size': 16.5})\n",
    "    plt.figure(figsize=(30, 7.5))\n",
    "\n",
    "    plt.subplot(131)\n",
    "    plt.title(r'Precision')\n",
    "    plt.xlabel('Cutoff Value')\n",
    "    plt.ylabel('Precision')\n",
    "    for model_type in model_types:\n",
    "        plt.plot(cutoffs, [np.mean(metrics[model_type]['precision'][k,:]) for k in range(len(cutoffs))], label=model_type)\n",
    "    plt.xticks(cutoffs)\n",
    "    plt.legend()\n",
    "    plt.grid(axis='y')\n",
    "\n",
    "    plt.subplot(132)\n",
    "    plt.title(r'Recall')\n",
    "    plt.xlabel('Cutoff Value')\n",
    "    plt.ylabel('Recall')\n",
    "    for model_type in model_types:\n",
    "        plt.plot(cutoffs, [np.mean(metrics[model_type]['recall'][k,:]) for k in range(len(cutoffs))], label=model_type)\n",
    "    plt.xticks(cutoffs)\n",
    "    plt.legend()\n",
    "    plt.grid(axis='y')\n",
    "\n",
    "    plt.subplot(133)\n",
    "    plt.title(r'NDCG')\n",
    "    plt.xlabel('Cutoff Value')\n",
    "    plt.ylabel('NDCG')\n",
    "    for model_type in model_types:\n",
    "        plt.plot(cutoffs, [np.mean(metrics[model_type]['ndcg'][k,:]) for k in range(len(cutoffs))], label=model_type)\n",
    "    plt.xticks(cutoffs)\n",
    "    plt.legend()\n",
    "    plt.grid(axis='y')\n",
    "\n",
    "    plt.tight_layout()"
   ]
  },
  {
   "cell_type": "code",
   "execution_count": 27,
   "metadata": {},
   "outputs": [
    {
     "data": {
      "image/png": "[encoded data removed]",
      "text/plain": [
       "<Figure size 2160x540 with 3 Axes>"
      ]
     },
     "metadata": {
      "needs_background": "light"
     },
     "output_type": "display_data"
    }
   ],
   "source": [
    "plot_effectiveness(metrics, cutoffs)"
   ]
  },
  {
   "cell_type": "markdown",
   "metadata": {},
   "source": [
    "Then, we show the extent to which they are fair for the providers, based on the group-proportionality principles discussed above.  "
   ]
  },
  {
   "cell_type": "code",
   "execution_count": 28,
   "metadata": {},
   "outputs": [],
   "source": [
    "def plot_disparities(metrics, cutoffs):\n",
    "    plt.rcParams.update({'font.size': 16.5})\n",
    "    plt.figure(figsize=(30, 7.5))\n",
    "\n",
    "    plt.subplot(121)\n",
    "    plt.title(r'Disparate Visibility')\n",
    "    plt.xlabel('Cutoff Value')\n",
    "    plt.ylabel('Disparate Visibility')\n",
    "    for model_type in model_types:\n",
    "        plt.plot(cutoffs, [abs(np.mean(metrics[model_type]['visibility'][k,:]) - original_minority_rep) for k in range(len(cutoffs))], label=model_type)\n",
    "    plt.xticks(cutoffs)\n",
    "    plt.legend()\n",
    "    plt.grid(axis='y')\n",
    "\n",
    "    plt.subplot(122)\n",
    "    plt.title(r'Disparate Exposure')\n",
    "    plt.xlabel('Cutoff Value')\n",
    "    plt.ylabel('Disparate Exposure')\n",
    "    for model_type in model_types:\n",
    "        plt.plot(cutoffs, [abs(np.mean(metrics[model_type]['exposure'][k,:]) - original_minority_rep) for k in range(len(cutoffs))], label=model_type)\n",
    "    plt.xticks(cutoffs)\n",
    "    plt.legend()\n",
    "    plt.grid(axis='y')\n",
    "\n",
    "    plt.tight_layout()"
   ]
  },
  {
   "cell_type": "code",
   "execution_count": 29,
   "metadata": {},
   "outputs": [
    {
     "data": {
      "image/png": "[encoded data removed]",
      "text/plain": [
       "<Figure size 2160x540 with 2 Axes>"
      ]
     },
     "metadata": {
      "needs_background": "light"
     },
     "output_type": "display_data"
    }
   ],
   "source": [
    "plot_disparities(metrics, cutoffs)"
   ]
  },
  {
   "cell_type": "markdown",
   "metadata": {},
   "source": [
    "## Step 3: Improving fairness across provider-groups via pre-processing\n",
    "\n",
    "This part will show how to improve fairness among provider groups by upsampling interactions involving the minority group of providers. This example is a didactic version of the work proposed by Boratto et al. (2020b). "
   ]
  },
  {
   "cell_type": "markdown",
   "metadata": {},
   "source": [
    "First, we split again train and test data and prepare the data needed to initialize a recommendation model. "
   ]
  },
  {
   "cell_type": "code",
   "execution_count": 30,
   "metadata": {},
   "outputs": [],
   "source": [
    "smode = 'utime_pfair'\n",
    "train_ratio = 0.80        \n",
    "min_train_samples = 8\n",
    "min_test_samples = 2\n",
    "min_time = None\n",
    "max_time = None\n",
    "step_time = 1000"
   ]
  },
  {
   "cell_type": "code",
   "execution_count": 31,
   "metadata": {},
   "outputs": [
    {
     "name": "stdout",
     "output_type": "stream",
     "text": [
      "> Parsing user 6040 of 6040\n"
     ]
    }
   ],
   "source": [
    "if smode == 'uftime_pfair':\n",
    "    traintest = fixed_timestamp(data, min_train_samples, min_test_samples, min_time, max_time, step_time, user_field, item_field, time_field, rating_field)\n",
    "elif smode == 'utime_pfair':\n",
    "    traintest = user_timestamp(data, train_ratio, min_train_samples+min_test_samples, user_field, item_field, time_field)\n",
    "elif smode == 'urandom_pfair':\n",
    "    traintest = user_random(data, train_ratio, min_train_samples+min_test_samples, user_field, item_field)"
   ]
  },
  {
   "cell_type": "code",
   "execution_count": 32,
   "metadata": {},
   "outputs": [],
   "source": [
    "train = traintest[traintest['set']=='train'].copy()\n",
    "test = traintest[traintest['set']=='test'].copy()"
   ]
  },
  {
   "cell_type": "code",
   "execution_count": 33,
   "metadata": {},
   "outputs": [
    {
     "data": {
      "text/plain": [
       "(0.078392830039388, 0.921607169960612)"
      ]
     },
     "execution_count": 33,
     "metadata": {},
     "output_type": "execute_result"
    }
   ],
   "source": [
    "len(train[train['minority'] > 0]) / len(train), len(train[train['minority'] == 0]) / len(train)"
   ]
  },
  {
   "cell_type": "code",
   "execution_count": 34,
   "metadata": {},
   "outputs": [
    {
     "data": {
      "text/html": [
       "<div>\n",
       "<style scoped>\n",
       "    .dataframe tbody tr th:only-of-type {\n",
       "        vertical-align: middle;\n",
       "    }\n",
       "\n",
       "    .dataframe tbody tr th {\n",
       "        vertical-align: top;\n",
       "    }\n",
       "\n",
       "    .dataframe thead th {\n",
       "        text-align: right;\n",
       "    }\n",
       "</style>\n",
       "<table border=\"1\" class=\"dataframe\">\n",
       "  <thead>\n",
       "    <tr style=\"text-align: right;\">\n",
       "      <th></th>\n",
       "      <th>user_id</th>\n",
       "      <th>item_id</th>\n",
       "      <th>rating</th>\n",
       "      <th>timestamp</th>\n",
       "      <th>type</th>\n",
       "      <th>type_id</th>\n",
       "      <th>minority</th>\n",
       "      <th>majority</th>\n",
       "      <th>set</th>\n",
       "      <th>user_id_original</th>\n",
       "      <th>item_id_original</th>\n",
       "    </tr>\n",
       "  </thead>\n",
       "  <tbody>\n",
       "    <tr>\n",
       "      <th>44594</th>\n",
       "      <td>4041</td>\n",
       "      <td>1781</td>\n",
       "      <td>4.0</td>\n",
       "      <td>2000-08-05 23:28:29</td>\n",
       "      <td>Drama</td>\n",
       "      <td>7</td>\n",
       "      <td>0.0</td>\n",
       "      <td>1.0</td>\n",
       "      <td>train</td>\n",
       "      <td>4042</td>\n",
       "      <td>1961</td>\n",
       "    </tr>\n",
       "    <tr>\n",
       "      <th>345333</th>\n",
       "      <td>4226</td>\n",
       "      <td>1919</td>\n",
       "      <td>4.0</td>\n",
       "      <td>2000-08-03 17:01:37</td>\n",
       "      <td>Fantasy</td>\n",
       "      <td>8</td>\n",
       "      <td>0.0</td>\n",
       "      <td>1.0</td>\n",
       "      <td>train</td>\n",
       "      <td>4227</td>\n",
       "      <td>2100</td>\n",
       "    </tr>\n",
       "    <tr>\n",
       "      <th>855945</th>\n",
       "      <td>1634</td>\n",
       "      <td>1744</td>\n",
       "      <td>5.0</td>\n",
       "      <td>2000-11-20 11:49:36</td>\n",
       "      <td>Sci-Fi</td>\n",
       "      <td>14</td>\n",
       "      <td>0.0</td>\n",
       "      <td>1.0</td>\n",
       "      <td>train</td>\n",
       "      <td>1635</td>\n",
       "      <td>1924</td>\n",
       "    </tr>\n",
       "    <tr>\n",
       "      <th>427968</th>\n",
       "      <td>5764</td>\n",
       "      <td>1653</td>\n",
       "      <td>2.0</td>\n",
       "      <td>2000-05-13 03:13:07</td>\n",
       "      <td>Action</td>\n",
       "      <td>0</td>\n",
       "      <td>0.0</td>\n",
       "      <td>1.0</td>\n",
       "      <td>train</td>\n",
       "      <td>5765</td>\n",
       "      <td>1831</td>\n",
       "    </tr>\n",
       "    <tr>\n",
       "      <th>419789</th>\n",
       "      <td>1585</td>\n",
       "      <td>2420</td>\n",
       "      <td>4.0</td>\n",
       "      <td>2000-11-20 17:02:34</td>\n",
       "      <td>Comedy</td>\n",
       "      <td>4</td>\n",
       "      <td>0.0</td>\n",
       "      <td>1.0</td>\n",
       "      <td>train</td>\n",
       "      <td>1586</td>\n",
       "      <td>2622</td>\n",
       "    </tr>\n",
       "    <tr>\n",
       "      <th>626872</th>\n",
       "      <td>172</td>\n",
       "      <td>2357</td>\n",
       "      <td>3.0</td>\n",
       "      <td>2001-03-22 19:33:44</td>\n",
       "      <td>Sci-Fi</td>\n",
       "      <td>14</td>\n",
       "      <td>0.0</td>\n",
       "      <td>1.0</td>\n",
       "      <td>train</td>\n",
       "      <td>173</td>\n",
       "      <td>2553</td>\n",
       "    </tr>\n",
       "    <tr>\n",
       "      <th>470782</th>\n",
       "      <td>343</td>\n",
       "      <td>1272</td>\n",
       "      <td>1.0</td>\n",
       "      <td>2000-12-09 05:35:00</td>\n",
       "      <td>Sci-Fi</td>\n",
       "      <td>14</td>\n",
       "      <td>0.0</td>\n",
       "      <td>1.0</td>\n",
       "      <td>train</td>\n",
       "      <td>344</td>\n",
       "      <td>1371</td>\n",
       "    </tr>\n",
       "    <tr>\n",
       "      <th>304446</th>\n",
       "      <td>3052</td>\n",
       "      <td>2202</td>\n",
       "      <td>5.0</td>\n",
       "      <td>2000-10-03 21:38:11</td>\n",
       "      <td>Comedy</td>\n",
       "      <td>4</td>\n",
       "      <td>0.0</td>\n",
       "      <td>1.0</td>\n",
       "      <td>train</td>\n",
       "      <td>3053</td>\n",
       "      <td>2395</td>\n",
       "    </tr>\n",
       "    <tr>\n",
       "      <th>851102</th>\n",
       "      <td>1086</td>\n",
       "      <td>2475</td>\n",
       "      <td>5.0</td>\n",
       "      <td>2001-05-22 18:14:46</td>\n",
       "      <td>Documentary</td>\n",
       "      <td>6</td>\n",
       "      <td>0.0</td>\n",
       "      <td>1.0</td>\n",
       "      <td>train</td>\n",
       "      <td>1087</td>\n",
       "      <td>2677</td>\n",
       "    </tr>\n",
       "    <tr>\n",
       "      <th>152754</th>\n",
       "      <td>3720</td>\n",
       "      <td>1777</td>\n",
       "      <td>3.0</td>\n",
       "      <td>2000-08-14 05:52:43</td>\n",
       "      <td>Drama</td>\n",
       "      <td>7</td>\n",
       "      <td>0.0</td>\n",
       "      <td>1.0</td>\n",
       "      <td>train</td>\n",
       "      <td>3721</td>\n",
       "      <td>1957</td>\n",
       "    </tr>\n",
       "  </tbody>\n",
       "</table>\n",
       "</div>"
      ],
      "text/plain": [
       "        user_id  item_id  rating            timestamp         type  type_id  \\\n",
       "44594      4041     1781     4.0  2000-08-05 23:28:29        Drama        7   \n",
       "345333     4226     1919     4.0  2000-08-03 17:01:37      Fantasy        8   \n",
       "855945     1634     1744     5.0  2000-11-20 11:49:36       Sci-Fi       14   \n",
       "427968     5764     1653     2.0  2000-05-13 03:13:07       Action        0   \n",
       "419789     1585     2420     4.0  2000-11-20 17:02:34       Comedy        4   \n",
       "626872      172     2357     3.0  2001-03-22 19:33:44       Sci-Fi       14   \n",
       "470782      343     1272     1.0  2000-12-09 05:35:00       Sci-Fi       14   \n",
       "304446     3052     2202     5.0  2000-10-03 21:38:11       Comedy        4   \n",
       "851102     1086     2475     5.0  2001-05-22 18:14:46  Documentary        6   \n",
       "152754     3720     1777     3.0  2000-08-14 05:52:43        Drama        7   \n",
       "\n",
       "        minority  majority    set  user_id_original  item_id_original  \n",
       "44594        0.0       1.0  train              4042              1961  \n",
       "345333       0.0       1.0  train              4227              2100  \n",
       "855945       0.0       1.0  train              1635              1924  \n",
       "427968       0.0       1.0  train              5765              1831  \n",
       "419789       0.0       1.0  train              1586              2622  \n",
       "626872       0.0       1.0  train               173              2553  \n",
       "470782       0.0       1.0  train               344              1371  \n",
       "304446       0.0       1.0  train              3053              2395  \n",
       "851102       0.0       1.0  train              1087              2677  \n",
       "152754       0.0       1.0  train              3721              1957  "
      ]
     },
     "execution_count": 34,
     "metadata": {},
     "output_type": "execute_result"
    }
   ],
   "source": [
    "train.sample(10)"
   ]
  },
  {
   "cell_type": "code",
   "execution_count": 35,
   "metadata": {},
   "outputs": [],
   "source": [
    "users = list(np.unique(traintest[user_field].values))\n",
    "items = list(np.unique(traintest[item_field].values))"
   ]
  },
  {
   "cell_type": "code",
   "execution_count": 36,
   "metadata": {},
   "outputs": [],
   "source": [
    "items_metadata = traintest.drop_duplicates(subset=['item_id'], keep='first')\n",
    "category_per_item = items_metadata[type_field].values"
   ]
  },
  {
   "cell_type": "markdown",
   "metadata": {},
   "source": [
    "Then, we identify the set of items belonging to the minority group and we run the upsampling strategy. "
   ]
  },
  {
   "cell_type": "code",
   "execution_count": 37,
   "metadata": {},
   "outputs": [],
   "source": [
    "items_w_min = np.unique(traintest[traintest['minority'] > 0]['item_id'].values)\n",
    "items_w_maj = np.unique(traintest[traintest['minority'] == 0]['item_id'].values)"
   ]
  },
  {
   "cell_type": "code",
   "execution_count": 41,
   "metadata": {},
   "outputs": [],
   "source": [
    "def run_with_upsampling(train, umode, utarget, model_type='pairwise', items_w_min=None, item_group=None, cutoffs=None, verbose=False):\n",
    "    model_id = smode + '_' + umode + '_' + str(int(utarget*100)) + '_' + model_type\n",
    "    \n",
    "    print('\\n*** Running experimental pipeline for model with id', model_id)\n",
    "    \n",
    "    if umode == 'real':\n",
    "        train = real(train, 'minority', target=utarget)\n",
    "    if umode == 'fake':\n",
    "        train = fake(train, 'minority', items_w_min, target=utarget)\n",
    "    if umode == 'fakebypop':\n",
    "        train = fakeByPop(train, 'minority', items_w_min, target=utarget)\n",
    "        \n",
    "    train['rating'] = 1.0\n",
    "    \n",
    "    model_types = {'random': Random, 'mostpop': MostPop, 'pointwise': PointWise, 'pairwise': PairWise}\n",
    "    model = model_types[model_type](users, items, train, test, category_per_item, item_field, user_field, rating_field)\n",
    "    \n",
    "    model.train(no_epochs=5)\n",
    "    model.predict()\n",
    "    \n",
    "    predictions = model.get_predictions()\n",
    "    save_obj(predictions, os.path.join(data_path, 'outputs/predictions/' + dataset + '_' + model_id + '_scores.pkl'))\n",
    "    \n",
    "    model.test(item_group=item_group, cutoffs=cutoffs)\n",
    "    \n",
    "    metrics = model.get_metrics()\n",
    "    \n",
    "    save_obj(metrics, os.path.join(data_path, 'outputs/metrics/' + dataset + '_' + model_id + '_metrics.pkl'))\n",
    "    \n",
    "    if verbose:\n",
    "        model.show_metrics(index_k=int(np.where(cutoffs == 10)[0]))"
   ]
  },
  {
   "cell_type": "code",
   "execution_count": 42,
   "metadata": {},
   "outputs": [],
   "source": [
    "items_map = traintest.drop_duplicates(subset='item_id', keep='first')\n",
    "item_group = {i: (0.0 if v > 0 else 1.0) for i, v in zip(items_map['item_id'].values, items_map['minority'].values)}"
   ]
  },
  {
   "cell_type": "code",
   "execution_count": null,
   "metadata": {},
   "outputs": [
    {
     "name": "stdout",
     "output_type": "stream",
     "text": [
      "\n",
      "*** Running experimental pipeline for model with id utime_pfair_fake_16_pairwise\n",
      "original 803798 minority 0.078392830039388 and majority 0.921607169960612\n",
      "\n",
      "upsampled 881888 minority 0.15999990928553284 and majority 0.8400000907144671\n",
      "Initializing user, item, and categories lists\n",
      "Initializing observed, unobserved, and predicted relevance scores\n",
      "Initializing item popularity lists\n",
      "Initializing category per item\n",
      "Initializing category preference per user\n",
      "Initializing metrics\n",
      "Generating training instances of type pair\n",
      "Created training instances randomly\n",
      "Computing instances for interaction 800000 / 881888 of type pair\n",
      "Performing training - Epochs 5 Batch Size 1024 Learning Rate 0.001 Factors 10 Negatives 10 Mode pair\n",
      "Train on 8730691 samples\n",
      "3180544/8730691 [=========>....................] - ETA: 1:11 - loss: 0.2825 - acc_loss: 0.2825 - corr_loss: 0.2906 ETA: 1:12 - loss: 0.2844 - acc_loss"
     ]
    }
   ],
   "source": [
    "run_with_upsampling(train, 'fake', 0.16, 'pairwise', items_w_min, item_group, cutoffs, verbose=True)"
   ]
  },
  {
   "cell_type": "code",
   "execution_count": null,
   "metadata": {},
   "outputs": [],
   "source": [
    "model_types = ['utime_pfair_fake_16_pairwise', 'utime_pairwise', 'utime_pointwise', 'utime_random', 'utime_mostpop']"
   ]
  },
  {
   "cell_type": "code",
   "execution_count": null,
   "metadata": {},
   "outputs": [],
   "source": [
    "metrics = load_metrics(model_types)"
   ]
  },
  {
   "cell_type": "code",
   "execution_count": null,
   "metadata": {},
   "outputs": [],
   "source": [
    "plot_effectiveness(metrics, cutoffs)"
   ]
  },
  {
   "cell_type": "code",
   "execution_count": null,
   "metadata": {},
   "outputs": [],
   "source": [
    "plot_disparities(metrics, cutoffs)"
   ]
  },
  {
   "cell_type": "markdown",
   "metadata": {},
   "source": [
    "## Step 4: Analyzing the effect of the amount of upsampling\n",
    "\n",
    "In the last step, we set up the amount of upsampling to *0.30*. However, it remains unanswered the question on to what extent the upsampling affects the disparities and which amount of upsampling should be selected for a given model. To answer to thi question, we run the procedure for a set of upsampling values and compare the tradeoff they achieve.  "
   ]
  },
  {
   "cell_type": "code",
   "execution_count": null,
   "metadata": {},
   "outputs": [],
   "source": [
    "upsampling_vars = [0.20, 0.25]"
   ]
  },
  {
   "cell_type": "code",
   "execution_count": null,
   "metadata": {},
   "outputs": [],
   "source": [
    "for u in upsampling_vars:\n",
    "    run_with_upsampling(train, 'fake', u, 'pairwise', items_w_min, item_group, cutoffs)"
   ]
  },
  {
   "cell_type": "code",
   "execution_count": null,
   "metadata": {},
   "outputs": [],
   "source": [
    "model_types=['utime_pairwise','utime_pfair_fake_16_pairwise','utime_pfair_fake_20_pairwise','utime_pfair_fake_25_pairwise']"
   ]
  },
  {
   "cell_type": "code",
   "execution_count": null,
   "metadata": {},
   "outputs": [],
   "source": [
    "metrics = load_metrics(model_types)"
   ]
  },
  {
   "cell_type": "code",
   "execution_count": null,
   "metadata": {},
   "outputs": [],
   "source": [
    "plot_effectiveness(metrics, cutoffs)"
   ]
  },
  {
   "cell_type": "code",
   "execution_count": null,
   "metadata": {},
   "outputs": [],
   "source": [
    "plot_disparities(metrics, cutoffs)"
   ]
  },
  {
   "cell_type": "markdown",
   "metadata": {},
   "source": [
    "## Step 5: Investigate the impact on the coverage of the provider groups"
   ]
  },
  {
   "cell_type": "code",
   "execution_count": null,
   "metadata": {},
   "outputs": [],
   "source": [
    "kindex = int(np.where(cutoffs == 50)[0])"
   ]
  },
  {
   "cell_type": "code",
   "execution_count": null,
   "metadata": {},
   "outputs": [],
   "source": [
    "items_g1 = np.unique(traintest[traintest['minority'] > 0]['item_id'])\n",
    "items_g2 = np.unique(traintest[traintest['minority'] == 0]['item_id'])\n",
    "\n",
    "coverage_results = []\n",
    "for model_type in model_types:\n",
    "    coverage = len([1 for m in metrics[model_type]['item_coverage'][kindex] if m > 0]) / len(items)\n",
    "    coverage_g1o = len([1 for m in metrics[model_type]['item_coverage'][kindex][items_g1] if m > 0]) / len(items)\n",
    "    coverage_g2o = len([1 for m in metrics[model_type]['item_coverage'][kindex][items_g2] if m > 0]) / len(items)\n",
    "    coverage_g1r = len([1 for m in metrics[model_type]['item_coverage'][kindex][items_g1] if m > 0]) / len(items_g1)\n",
    "    coverage_g2r = len([1 for m in metrics[model_type]['item_coverage'][kindex][items_g2] if m > 0]) / len(items_g2)\n",
    "    coverage_results.append([model_type, coverage, coverage_g1o, coverage_g2o, coverage_g1r, coverage_g2r])\n",
    "    \n",
    "pd.DataFrame(coverage_results, columns =['Model Type', 'Cov', 'G1 Over Cov', 'G2 Over Cov', 'G1 Rel Cov', 'G2 Rel Cov']) "
   ]
  }
 ],
 "metadata": {
  "kernelspec": {
   "display_name": "Python 3",
   "language": "python",
   "name": "python3"
  },
  "language_info": {
   "codemirror_mode": {
    "name": "ipython",
    "version": 3
   },
   "file_extension": ".py",
   "mimetype": "text/x-python",
   "name": "python",
   "nbconvert_exporter": "python",
   "pygments_lexer": "ipython3",
   "version": "3.6.8"
  }
 },
 "nbformat": 4,
 "nbformat_minor": 1
}
